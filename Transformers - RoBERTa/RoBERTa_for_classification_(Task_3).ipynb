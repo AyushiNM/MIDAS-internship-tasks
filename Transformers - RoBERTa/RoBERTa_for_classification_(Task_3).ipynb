{
  "nbformat": 4,
  "nbformat_minor": 0,
  "metadata": {
    "kernelspec": {
      "name": "python3",
      "display_name": "Python 3"
    },
    "colab": {
      "name": "RoBERTa for classification (Task 3).ipynb",
      "provenance": [],
      "collapsed_sections": []
    },
    "accelerator": "GPU"
  },
  "cells": [
    {
      "cell_type": "markdown",
      "metadata": {
        "id": "Uhd5Ng5yrah6"
      },
      "source": [
        "In this notebook, I have used **[HuggingFace RoBERTa](https://https://huggingface.co/transformers/model_doc/roberta.html#robertaforsequenceclassification)** for predicting the product category."
      ]
    },
    {
      "cell_type": "code",
      "metadata": {
        "id": "QQd5949vrbqH"
      },
      "source": [
        "pip freeze > requirements.txt # generating the requirements.txt file."
      ],
      "execution_count": 26,
      "outputs": []
    },
    {
      "cell_type": "code",
      "metadata": {
        "colab": {
          "base_uri": "https://localhost:8080/"
        },
        "id": "di6PDFiJ-v6k",
        "outputId": "a9c44999-13a7-4fa8-a9ae-81ef90afc2a8"
      },
      "source": [
        "pip install torchtext==0.4"
      ],
      "execution_count": 1,
      "outputs": [
        {
          "output_type": "stream",
          "text": [
            "Collecting torchtext==0.4\n",
            "\u001b[?25l  Downloading https://files.pythonhosted.org/packages/43/94/929d6bd236a4fb5c435982a7eb9730b78dcd8659acf328fd2ef9de85f483/torchtext-0.4.0-py3-none-any.whl (53kB)\n",
            "\r\u001b[K     |██████▏                         | 10kB 17.5MB/s eta 0:00:01\r\u001b[K     |████████████▍                   | 20kB 23.2MB/s eta 0:00:01\r\u001b[K     |██████████████████▌             | 30kB 27.1MB/s eta 0:00:01\r\u001b[K     |████████████████████████▊       | 40kB 29.3MB/s eta 0:00:01\r\u001b[K     |██████████████████████████████▉ | 51kB 31.4MB/s eta 0:00:01\r\u001b[K     |████████████████████████████████| 61kB 7.4MB/s \n",
            "\u001b[?25hRequirement already satisfied: six in /usr/local/lib/python3.7/dist-packages (from torchtext==0.4) (1.15.0)\n",
            "Requirement already satisfied: numpy in /usr/local/lib/python3.7/dist-packages (from torchtext==0.4) (1.19.5)\n",
            "Requirement already satisfied: requests in /usr/local/lib/python3.7/dist-packages (from torchtext==0.4) (2.23.0)\n",
            "Requirement already satisfied: torch in /usr/local/lib/python3.7/dist-packages (from torchtext==0.4) (1.8.1+cu101)\n",
            "Requirement already satisfied: tqdm in /usr/local/lib/python3.7/dist-packages (from torchtext==0.4) (4.41.1)\n",
            "Requirement already satisfied: chardet<4,>=3.0.2 in /usr/local/lib/python3.7/dist-packages (from requests->torchtext==0.4) (3.0.4)\n",
            "Requirement already satisfied: idna<3,>=2.5 in /usr/local/lib/python3.7/dist-packages (from requests->torchtext==0.4) (2.10)\n",
            "Requirement already satisfied: urllib3!=1.25.0,!=1.25.1,<1.26,>=1.21.1 in /usr/local/lib/python3.7/dist-packages (from requests->torchtext==0.4) (1.24.3)\n",
            "Requirement already satisfied: certifi>=2017.4.17 in /usr/local/lib/python3.7/dist-packages (from requests->torchtext==0.4) (2020.12.5)\n",
            "Requirement already satisfied: typing-extensions in /usr/local/lib/python3.7/dist-packages (from torch->torchtext==0.4) (3.7.4.3)\n",
            "Installing collected packages: torchtext\n",
            "  Found existing installation: torchtext 0.9.1\n",
            "    Uninstalling torchtext-0.9.1:\n",
            "      Successfully uninstalled torchtext-0.9.1\n",
            "Successfully installed torchtext-0.4.0\n"
          ],
          "name": "stdout"
        }
      ]
    },
    {
      "cell_type": "code",
      "metadata": {
        "id": "EJYlZ4Qn8r_g",
        "colab": {
          "base_uri": "https://localhost:8080/"
        },
        "outputId": "e3765760-a998-4359-a9b9-cf7ca61ce11c"
      },
      "source": [
        "from google.colab import drive\n",
        "drive.mount('/content/drive/')"
      ],
      "execution_count": 2,
      "outputs": [
        {
          "output_type": "stream",
          "text": [
            "Mounted at /content/drive/\n"
          ],
          "name": "stdout"
        }
      ]
    },
    {
      "cell_type": "code",
      "metadata": {
        "id": "bHfX-zm58wci",
        "colab": {
          "base_uri": "https://localhost:8080/"
        },
        "outputId": "d9049f19-f791-42d7-ccc4-4edb04c9d938"
      },
      "source": [
        "pip install transformers"
      ],
      "execution_count": 3,
      "outputs": [
        {
          "output_type": "stream",
          "text": [
            "Collecting transformers\n",
            "\u001b[?25l  Downloading https://files.pythonhosted.org/packages/81/91/61d69d58a1af1bd81d9ca9d62c90a6de3ab80d77f27c5df65d9a2c1f5626/transformers-4.5.0-py3-none-any.whl (2.1MB)\n",
            "\r\u001b[K     |▏                               | 10kB 25.5MB/s eta 0:00:01\r\u001b[K     |▎                               | 20kB 32.7MB/s eta 0:00:01\r\u001b[K     |▌                               | 30kB 23.1MB/s eta 0:00:01\r\u001b[K     |▋                               | 40kB 26.6MB/s eta 0:00:01\r\u001b[K     |▊                               | 51kB 24.6MB/s eta 0:00:01\r\u001b[K     |█                               | 61kB 27.2MB/s eta 0:00:01\r\u001b[K     |█                               | 71kB 19.2MB/s eta 0:00:01\r\u001b[K     |█▏                              | 81kB 20.4MB/s eta 0:00:01\r\u001b[K     |█▍                              | 92kB 18.6MB/s eta 0:00:01\r\u001b[K     |█▌                              | 102kB 19.2MB/s eta 0:00:01\r\u001b[K     |█▊                              | 112kB 19.2MB/s eta 0:00:01\r\u001b[K     |█▉                              | 122kB 19.2MB/s eta 0:00:01\r\u001b[K     |██                              | 133kB 19.2MB/s eta 0:00:01\r\u001b[K     |██▏                             | 143kB 19.2MB/s eta 0:00:01\r\u001b[K     |██▎                             | 153kB 19.2MB/s eta 0:00:01\r\u001b[K     |██▍                             | 163kB 19.2MB/s eta 0:00:01\r\u001b[K     |██▋                             | 174kB 19.2MB/s eta 0:00:01\r\u001b[K     |██▊                             | 184kB 19.2MB/s eta 0:00:01\r\u001b[K     |███                             | 194kB 19.2MB/s eta 0:00:01\r\u001b[K     |███                             | 204kB 19.2MB/s eta 0:00:01\r\u001b[K     |███▏                            | 215kB 19.2MB/s eta 0:00:01\r\u001b[K     |███▍                            | 225kB 19.2MB/s eta 0:00:01\r\u001b[K     |███▌                            | 235kB 19.2MB/s eta 0:00:01\r\u001b[K     |███▋                            | 245kB 19.2MB/s eta 0:00:01\r\u001b[K     |███▉                            | 256kB 19.2MB/s eta 0:00:01\r\u001b[K     |████                            | 266kB 19.2MB/s eta 0:00:01\r\u001b[K     |████▏                           | 276kB 19.2MB/s eta 0:00:01\r\u001b[K     |████▎                           | 286kB 19.2MB/s eta 0:00:01\r\u001b[K     |████▍                           | 296kB 19.2MB/s eta 0:00:01\r\u001b[K     |████▋                           | 307kB 19.2MB/s eta 0:00:01\r\u001b[K     |████▊                           | 317kB 19.2MB/s eta 0:00:01\r\u001b[K     |████▉                           | 327kB 19.2MB/s eta 0:00:01\r\u001b[K     |█████                           | 337kB 19.2MB/s eta 0:00:01\r\u001b[K     |█████▏                          | 348kB 19.2MB/s eta 0:00:01\r\u001b[K     |█████▍                          | 358kB 19.2MB/s eta 0:00:01\r\u001b[K     |█████▌                          | 368kB 19.2MB/s eta 0:00:01\r\u001b[K     |█████▋                          | 378kB 19.2MB/s eta 0:00:01\r\u001b[K     |█████▉                          | 389kB 19.2MB/s eta 0:00:01\r\u001b[K     |██████                          | 399kB 19.2MB/s eta 0:00:01\r\u001b[K     |██████                          | 409kB 19.2MB/s eta 0:00:01\r\u001b[K     |██████▎                         | 419kB 19.2MB/s eta 0:00:01\r\u001b[K     |██████▍                         | 430kB 19.2MB/s eta 0:00:01\r\u001b[K     |██████▋                         | 440kB 19.2MB/s eta 0:00:01\r\u001b[K     |██████▊                         | 450kB 19.2MB/s eta 0:00:01\r\u001b[K     |██████▉                         | 460kB 19.2MB/s eta 0:00:01\r\u001b[K     |███████                         | 471kB 19.2MB/s eta 0:00:01\r\u001b[K     |███████▏                        | 481kB 19.2MB/s eta 0:00:01\r\u001b[K     |███████▎                        | 491kB 19.2MB/s eta 0:00:01\r\u001b[K     |███████▌                        | 501kB 19.2MB/s eta 0:00:01\r\u001b[K     |███████▋                        | 512kB 19.2MB/s eta 0:00:01\r\u001b[K     |███████▉                        | 522kB 19.2MB/s eta 0:00:01\r\u001b[K     |████████                        | 532kB 19.2MB/s eta 0:00:01\r\u001b[K     |████████                        | 542kB 19.2MB/s eta 0:00:01\r\u001b[K     |████████▎                       | 552kB 19.2MB/s eta 0:00:01\r\u001b[K     |████████▍                       | 563kB 19.2MB/s eta 0:00:01\r\u001b[K     |████████▌                       | 573kB 19.2MB/s eta 0:00:01\r\u001b[K     |████████▊                       | 583kB 19.2MB/s eta 0:00:01\r\u001b[K     |████████▉                       | 593kB 19.2MB/s eta 0:00:01\r\u001b[K     |█████████                       | 604kB 19.2MB/s eta 0:00:01\r\u001b[K     |█████████▏                      | 614kB 19.2MB/s eta 0:00:01\r\u001b[K     |█████████▎                      | 624kB 19.2MB/s eta 0:00:01\r\u001b[K     |█████████▌                      | 634kB 19.2MB/s eta 0:00:01\r\u001b[K     |█████████▋                      | 645kB 19.2MB/s eta 0:00:01\r\u001b[K     |█████████▊                      | 655kB 19.2MB/s eta 0:00:01\r\u001b[K     |██████████                      | 665kB 19.2MB/s eta 0:00:01\r\u001b[K     |██████████                      | 675kB 19.2MB/s eta 0:00:01\r\u001b[K     |██████████▎                     | 686kB 19.2MB/s eta 0:00:01\r\u001b[K     |██████████▍                     | 696kB 19.2MB/s eta 0:00:01\r\u001b[K     |██████████▌                     | 706kB 19.2MB/s eta 0:00:01\r\u001b[K     |██████████▊                     | 716kB 19.2MB/s eta 0:00:01\r\u001b[K     |██████████▉                     | 727kB 19.2MB/s eta 0:00:01\r\u001b[K     |███████████                     | 737kB 19.2MB/s eta 0:00:01\r\u001b[K     |███████████▏                    | 747kB 19.2MB/s eta 0:00:01\r\u001b[K     |███████████▎                    | 757kB 19.2MB/s eta 0:00:01\r\u001b[K     |███████████▌                    | 768kB 19.2MB/s eta 0:00:01\r\u001b[K     |███████████▋                    | 778kB 19.2MB/s eta 0:00:01\r\u001b[K     |███████████▊                    | 788kB 19.2MB/s eta 0:00:01\r\u001b[K     |████████████                    | 798kB 19.2MB/s eta 0:00:01\r\u001b[K     |████████████                    | 808kB 19.2MB/s eta 0:00:01\r\u001b[K     |████████████▏                   | 819kB 19.2MB/s eta 0:00:01\r\u001b[K     |████████████▍                   | 829kB 19.2MB/s eta 0:00:01\r\u001b[K     |████████████▌                   | 839kB 19.2MB/s eta 0:00:01\r\u001b[K     |████████████▊                   | 849kB 19.2MB/s eta 0:00:01\r\u001b[K     |████████████▉                   | 860kB 19.2MB/s eta 0:00:01\r\u001b[K     |█████████████                   | 870kB 19.2MB/s eta 0:00:01\r\u001b[K     |█████████████▏                  | 880kB 19.2MB/s eta 0:00:01\r\u001b[K     |█████████████▎                  | 890kB 19.2MB/s eta 0:00:01\r\u001b[K     |█████████████▍                  | 901kB 19.2MB/s eta 0:00:01\r\u001b[K     |█████████████▋                  | 911kB 19.2MB/s eta 0:00:01\r\u001b[K     |█████████████▊                  | 921kB 19.2MB/s eta 0:00:01\r\u001b[K     |██████████████                  | 931kB 19.2MB/s eta 0:00:01\r\u001b[K     |██████████████                  | 942kB 19.2MB/s eta 0:00:01\r\u001b[K     |██████████████▏                 | 952kB 19.2MB/s eta 0:00:01\r\u001b[K     |██████████████▍                 | 962kB 19.2MB/s eta 0:00:01\r\u001b[K     |██████████████▌                 | 972kB 19.2MB/s eta 0:00:01\r\u001b[K     |██████████████▋                 | 983kB 19.2MB/s eta 0:00:01\r\u001b[K     |██████████████▉                 | 993kB 19.2MB/s eta 0:00:01\r\u001b[K     |███████████████                 | 1.0MB 19.2MB/s eta 0:00:01\r\u001b[K     |███████████████▏                | 1.0MB 19.2MB/s eta 0:00:01\r\u001b[K     |███████████████▎                | 1.0MB 19.2MB/s eta 0:00:01\r\u001b[K     |███████████████▍                | 1.0MB 19.2MB/s eta 0:00:01\r\u001b[K     |███████████████▋                | 1.0MB 19.2MB/s eta 0:00:01\r\u001b[K     |███████████████▊                | 1.1MB 19.2MB/s eta 0:00:01\r\u001b[K     |███████████████▉                | 1.1MB 19.2MB/s eta 0:00:01\r\u001b[K     |████████████████                | 1.1MB 19.2MB/s eta 0:00:01\r\u001b[K     |████████████████▏               | 1.1MB 19.2MB/s eta 0:00:01\r\u001b[K     |████████████████▍               | 1.1MB 19.2MB/s eta 0:00:01\r\u001b[K     |████████████████▌               | 1.1MB 19.2MB/s eta 0:00:01\r\u001b[K     |████████████████▋               | 1.1MB 19.2MB/s eta 0:00:01\r\u001b[K     |████████████████▉               | 1.1MB 19.2MB/s eta 0:00:01\r\u001b[K     |█████████████████               | 1.1MB 19.2MB/s eta 0:00:01\r\u001b[K     |█████████████████               | 1.1MB 19.2MB/s eta 0:00:01\r\u001b[K     |█████████████████▎              | 1.2MB 19.2MB/s eta 0:00:01\r\u001b[K     |█████████████████▍              | 1.2MB 19.2MB/s eta 0:00:01\r\u001b[K     |█████████████████▌              | 1.2MB 19.2MB/s eta 0:00:01\r\u001b[K     |█████████████████▊              | 1.2MB 19.2MB/s eta 0:00:01\r\u001b[K     |█████████████████▉              | 1.2MB 19.2MB/s eta 0:00:01\r\u001b[K     |██████████████████              | 1.2MB 19.2MB/s eta 0:00:01\r\u001b[K     |██████████████████▏             | 1.2MB 19.2MB/s eta 0:00:01\r\u001b[K     |██████████████████▎             | 1.2MB 19.2MB/s eta 0:00:01\r\u001b[K     |██████████████████▌             | 1.2MB 19.2MB/s eta 0:00:01\r\u001b[K     |██████████████████▋             | 1.2MB 19.2MB/s eta 0:00:01\r\u001b[K     |██████████████████▊             | 1.3MB 19.2MB/s eta 0:00:01\r\u001b[K     |███████████████████             | 1.3MB 19.2MB/s eta 0:00:01\r\u001b[K     |███████████████████             | 1.3MB 19.2MB/s eta 0:00:01\r\u001b[K     |███████████████████▎            | 1.3MB 19.2MB/s eta 0:00:01\r\u001b[K     |███████████████████▍            | 1.3MB 19.2MB/s eta 0:00:01\r\u001b[K     |███████████████████▌            | 1.3MB 19.2MB/s eta 0:00:01\r\u001b[K     |███████████████████▊            | 1.3MB 19.2MB/s eta 0:00:01\r\u001b[K     |███████████████████▉            | 1.3MB 19.2MB/s eta 0:00:01\r\u001b[K     |████████████████████            | 1.3MB 19.2MB/s eta 0:00:01\r\u001b[K     |████████████████████▏           | 1.4MB 19.2MB/s eta 0:00:01\r\u001b[K     |████████████████████▎           | 1.4MB 19.2MB/s eta 0:00:01\r\u001b[K     |████████████████████▌           | 1.4MB 19.2MB/s eta 0:00:01\r\u001b[K     |████████████████████▋           | 1.4MB 19.2MB/s eta 0:00:01\r\u001b[K     |████████████████████▊           | 1.4MB 19.2MB/s eta 0:00:01\r\u001b[K     |█████████████████████           | 1.4MB 19.2MB/s eta 0:00:01\r\u001b[K     |█████████████████████           | 1.4MB 19.2MB/s eta 0:00:01\r\u001b[K     |█████████████████████▏          | 1.4MB 19.2MB/s eta 0:00:01\r\u001b[K     |█████████████████████▍          | 1.4MB 19.2MB/s eta 0:00:01\r\u001b[K     |█████████████████████▌          | 1.4MB 19.2MB/s eta 0:00:01\r\u001b[K     |█████████████████████▊          | 1.5MB 19.2MB/s eta 0:00:01\r\u001b[K     |█████████████████████▉          | 1.5MB 19.2MB/s eta 0:00:01\r\u001b[K     |██████████████████████          | 1.5MB 19.2MB/s eta 0:00:01\r\u001b[K     |██████████████████████▏         | 1.5MB 19.2MB/s eta 0:00:01\r\u001b[K     |██████████████████████▎         | 1.5MB 19.2MB/s eta 0:00:01\r\u001b[K     |██████████████████████▍         | 1.5MB 19.2MB/s eta 0:00:01\r\u001b[K     |██████████████████████▋         | 1.5MB 19.2MB/s eta 0:00:01\r\u001b[K     |██████████████████████▊         | 1.5MB 19.2MB/s eta 0:00:01\r\u001b[K     |███████████████████████         | 1.5MB 19.2MB/s eta 0:00:01\r\u001b[K     |███████████████████████         | 1.5MB 19.2MB/s eta 0:00:01\r\u001b[K     |███████████████████████▏        | 1.6MB 19.2MB/s eta 0:00:01\r\u001b[K     |███████████████████████▍        | 1.6MB 19.2MB/s eta 0:00:01\r\u001b[K     |███████████████████████▌        | 1.6MB 19.2MB/s eta 0:00:01\r\u001b[K     |███████████████████████▋        | 1.6MB 19.2MB/s eta 0:00:01\r\u001b[K     |███████████████████████▉        | 1.6MB 19.2MB/s eta 0:00:01\r\u001b[K     |████████████████████████        | 1.6MB 19.2MB/s eta 0:00:01\r\u001b[K     |████████████████████████▏       | 1.6MB 19.2MB/s eta 0:00:01\r\u001b[K     |████████████████████████▎       | 1.6MB 19.2MB/s eta 0:00:01\r\u001b[K     |████████████████████████▍       | 1.6MB 19.2MB/s eta 0:00:01\r\u001b[K     |████████████████████████▋       | 1.6MB 19.2MB/s eta 0:00:01\r\u001b[K     |████████████████████████▊       | 1.7MB 19.2MB/s eta 0:00:01\r\u001b[K     |████████████████████████▉       | 1.7MB 19.2MB/s eta 0:00:01\r\u001b[K     |█████████████████████████       | 1.7MB 19.2MB/s eta 0:00:01\r\u001b[K     |█████████████████████████▏      | 1.7MB 19.2MB/s eta 0:00:01\r\u001b[K     |█████████████████████████▍      | 1.7MB 19.2MB/s eta 0:00:01\r\u001b[K     |█████████████████████████▌      | 1.7MB 19.2MB/s eta 0:00:01\r\u001b[K     |█████████████████████████▋      | 1.7MB 19.2MB/s eta 0:00:01\r\u001b[K     |█████████████████████████▉      | 1.7MB 19.2MB/s eta 0:00:01\r\u001b[K     |██████████████████████████      | 1.7MB 19.2MB/s eta 0:00:01\r\u001b[K     |██████████████████████████      | 1.8MB 19.2MB/s eta 0:00:01\r\u001b[K     |██████████████████████████▎     | 1.8MB 19.2MB/s eta 0:00:01\r\u001b[K     |██████████████████████████▍     | 1.8MB 19.2MB/s eta 0:00:01\r\u001b[K     |██████████████████████████▋     | 1.8MB 19.2MB/s eta 0:00:01\r\u001b[K     |██████████████████████████▊     | 1.8MB 19.2MB/s eta 0:00:01\r\u001b[K     |██████████████████████████▉     | 1.8MB 19.2MB/s eta 0:00:01\r\u001b[K     |███████████████████████████     | 1.8MB 19.2MB/s eta 0:00:01\r\u001b[K     |███████████████████████████▏    | 1.8MB 19.2MB/s eta 0:00:01\r\u001b[K     |███████████████████████████▎    | 1.8MB 19.2MB/s eta 0:00:01\r\u001b[K     |███████████████████████████▌    | 1.8MB 19.2MB/s eta 0:00:01\r\u001b[K     |███████████████████████████▋    | 1.9MB 19.2MB/s eta 0:00:01\r\u001b[K     |███████████████████████████▉    | 1.9MB 19.2MB/s eta 0:00:01\r\u001b[K     |████████████████████████████    | 1.9MB 19.2MB/s eta 0:00:01\r\u001b[K     |████████████████████████████    | 1.9MB 19.2MB/s eta 0:00:01\r\u001b[K     |████████████████████████████▎   | 1.9MB 19.2MB/s eta 0:00:01\r\u001b[K     |████████████████████████████▍   | 1.9MB 19.2MB/s eta 0:00:01\r\u001b[K     |████████████████████████████▌   | 1.9MB 19.2MB/s eta 0:00:01\r\u001b[K     |████████████████████████████▊   | 1.9MB 19.2MB/s eta 0:00:01\r\u001b[K     |████████████████████████████▉   | 1.9MB 19.2MB/s eta 0:00:01\r\u001b[K     |█████████████████████████████   | 1.9MB 19.2MB/s eta 0:00:01\r\u001b[K     |█████████████████████████████▏  | 2.0MB 19.2MB/s eta 0:00:01\r\u001b[K     |█████████████████████████████▎  | 2.0MB 19.2MB/s eta 0:00:01\r\u001b[K     |█████████████████████████████▌  | 2.0MB 19.2MB/s eta 0:00:01\r\u001b[K     |█████████████████████████████▋  | 2.0MB 19.2MB/s eta 0:00:01\r\u001b[K     |█████████████████████████████▊  | 2.0MB 19.2MB/s eta 0:00:01\r\u001b[K     |██████████████████████████████  | 2.0MB 19.2MB/s eta 0:00:01\r\u001b[K     |██████████████████████████████  | 2.0MB 19.2MB/s eta 0:00:01\r\u001b[K     |██████████████████████████████▎ | 2.0MB 19.2MB/s eta 0:00:01\r\u001b[K     |██████████████████████████████▍ | 2.0MB 19.2MB/s eta 0:00:01\r\u001b[K     |██████████████████████████████▌ | 2.0MB 19.2MB/s eta 0:00:01\r\u001b[K     |██████████████████████████████▊ | 2.1MB 19.2MB/s eta 0:00:01\r\u001b[K     |██████████████████████████████▉ | 2.1MB 19.2MB/s eta 0:00:01\r\u001b[K     |███████████████████████████████ | 2.1MB 19.2MB/s eta 0:00:01\r\u001b[K     |███████████████████████████████▏| 2.1MB 19.2MB/s eta 0:00:01\r\u001b[K     |███████████████████████████████▎| 2.1MB 19.2MB/s eta 0:00:01\r\u001b[K     |███████████████████████████████▌| 2.1MB 19.2MB/s eta 0:00:01\r\u001b[K     |███████████████████████████████▋| 2.1MB 19.2MB/s eta 0:00:01\r\u001b[K     |███████████████████████████████▊| 2.1MB 19.2MB/s eta 0:00:01\r\u001b[K     |████████████████████████████████| 2.1MB 19.2MB/s eta 0:00:01\r\u001b[K     |████████████████████████████████| 2.2MB 19.2MB/s \n",
            "\u001b[?25hRequirement already satisfied: numpy>=1.17 in /usr/local/lib/python3.7/dist-packages (from transformers) (1.19.5)\n",
            "Collecting tokenizers<0.11,>=0.10.1\n",
            "\u001b[?25l  Downloading https://files.pythonhosted.org/packages/ae/04/5b870f26a858552025a62f1649c20d29d2672c02ff3c3fb4c688ca46467a/tokenizers-0.10.2-cp37-cp37m-manylinux2010_x86_64.whl (3.3MB)\n",
            "\u001b[K     |████████████████████████████████| 3.3MB 47.2MB/s \n",
            "\u001b[?25hRequirement already satisfied: regex!=2019.12.17 in /usr/local/lib/python3.7/dist-packages (from transformers) (2019.12.20)\n",
            "Requirement already satisfied: tqdm>=4.27 in /usr/local/lib/python3.7/dist-packages (from transformers) (4.41.1)\n",
            "Requirement already satisfied: filelock in /usr/local/lib/python3.7/dist-packages (from transformers) (3.0.12)\n",
            "Requirement already satisfied: packaging in /usr/local/lib/python3.7/dist-packages (from transformers) (20.9)\n",
            "Requirement already satisfied: importlib-metadata; python_version < \"3.8\" in /usr/local/lib/python3.7/dist-packages (from transformers) (3.8.1)\n",
            "Requirement already satisfied: requests in /usr/local/lib/python3.7/dist-packages (from transformers) (2.23.0)\n",
            "Collecting sacremoses\n",
            "\u001b[?25l  Downloading https://files.pythonhosted.org/packages/08/cd/342e584ee544d044fb573ae697404ce22ede086c9e87ce5960772084cad0/sacremoses-0.0.44.tar.gz (862kB)\n",
            "\u001b[K     |████████████████████████████████| 870kB 38.4MB/s \n",
            "\u001b[?25hRequirement already satisfied: pyparsing>=2.0.2 in /usr/local/lib/python3.7/dist-packages (from packaging->transformers) (2.4.7)\n",
            "Requirement already satisfied: zipp>=0.5 in /usr/local/lib/python3.7/dist-packages (from importlib-metadata; python_version < \"3.8\"->transformers) (3.4.1)\n",
            "Requirement already satisfied: typing-extensions>=3.6.4; python_version < \"3.8\" in /usr/local/lib/python3.7/dist-packages (from importlib-metadata; python_version < \"3.8\"->transformers) (3.7.4.3)\n",
            "Requirement already satisfied: certifi>=2017.4.17 in /usr/local/lib/python3.7/dist-packages (from requests->transformers) (2020.12.5)\n",
            "Requirement already satisfied: chardet<4,>=3.0.2 in /usr/local/lib/python3.7/dist-packages (from requests->transformers) (3.0.4)\n",
            "Requirement already satisfied: urllib3!=1.25.0,!=1.25.1,<1.26,>=1.21.1 in /usr/local/lib/python3.7/dist-packages (from requests->transformers) (1.24.3)\n",
            "Requirement already satisfied: idna<3,>=2.5 in /usr/local/lib/python3.7/dist-packages (from requests->transformers) (2.10)\n",
            "Requirement already satisfied: six in /usr/local/lib/python3.7/dist-packages (from sacremoses->transformers) (1.15.0)\n",
            "Requirement already satisfied: click in /usr/local/lib/python3.7/dist-packages (from sacremoses->transformers) (7.1.2)\n",
            "Requirement already satisfied: joblib in /usr/local/lib/python3.7/dist-packages (from sacremoses->transformers) (1.0.1)\n",
            "Building wheels for collected packages: sacremoses\n",
            "  Building wheel for sacremoses (setup.py) ... \u001b[?25l\u001b[?25hdone\n",
            "  Created wheel for sacremoses: filename=sacremoses-0.0.44-cp37-none-any.whl size=886084 sha256=f9fef6962515a00c100b557a7d3ab7abe825f680be943829712e143ae7c21683\n",
            "  Stored in directory: /root/.cache/pip/wheels/3e/fb/c0/13ab4d63d537658f448366744654323077c4d90069b6512f3c\n",
            "Successfully built sacremoses\n",
            "Installing collected packages: tokenizers, sacremoses, transformers\n",
            "Successfully installed sacremoses-0.0.44 tokenizers-0.10.2 transformers-4.5.0\n"
          ],
          "name": "stdout"
        }
      ]
    },
    {
      "cell_type": "code",
      "metadata": {
        "id": "WQpE2eke8Ws4"
      },
      "source": [
        "import seaborn as sns\n",
        "import pandas as pd\n",
        "import matplotlib.pyplot as plt\n",
        "import numpy as np\n",
        "\n",
        "from sklearn.metrics import accuracy_score, classification_report, confusion_matrix\n",
        "\n",
        "import torch\n",
        "from torchtext.data import Field, TabularDataset, BucketIterator, Iterator\n",
        "\n",
        "from transformers import RobertaTokenizer, AdamW, get_linear_schedule_with_warmup, RobertaForSequenceClassification\n",
        "\n",
        "import warnings\n",
        "warnings.filterwarnings('ignore')\n",
        "\n",
        "import logging\n",
        "logging.getLogger(\"transformers.tokenization_utils_base\").setLevel(logging.ERROR)"
      ],
      "execution_count": 4,
      "outputs": []
    },
    {
      "cell_type": "markdown",
      "metadata": {
        "id": "mItwMAoRsJPm"
      },
      "source": [
        "Loading the cleaned version of the original dataset. This dataset can be found  [here](https://drive.google.com/file/d/1uM5Kr_CieByJkZiSxVeKPhSpWV-aUYTY/view?usp=sharing)."
      ]
    },
    {
      "cell_type": "code",
      "metadata": {
        "id": "jFBQc8Ob8Ws4",
        "colab": {
          "base_uri": "https://localhost:8080/",
          "height": 213
        },
        "outputId": "7546f99d-941e-4bda-ae62-a657d35f77fd"
      },
      "source": [
        "df = pd.read_csv('/content/drive/My Drive/Colab Notebooks/flipkart_ecommerce_processed_sample.csv', index_col = 0) # Reading the dataset\n",
        "\n",
        "print(\"The data shape is:\", df.shape) # shape of the dataset\n",
        "df.head()"
      ],
      "execution_count": 27,
      "outputs": [
        {
          "output_type": "stream",
          "text": [
            "The data shape is: (19287, 4)\n"
          ],
          "name": "stdout"
        },
        {
          "output_type": "execute_result",
          "data": {
            "text/html": [
              "<div>\n",
              "<style scoped>\n",
              "    .dataframe tbody tr th:only-of-type {\n",
              "        vertical-align: middle;\n",
              "    }\n",
              "\n",
              "    .dataframe tbody tr th {\n",
              "        vertical-align: top;\n",
              "    }\n",
              "\n",
              "    .dataframe thead th {\n",
              "        text-align: right;\n",
              "    }\n",
              "</style>\n",
              "<table border=\"1\" class=\"dataframe\">\n",
              "  <thead>\n",
              "    <tr style=\"text-align: right;\">\n",
              "      <th></th>\n",
              "      <th>product_name</th>\n",
              "      <th>brand</th>\n",
              "      <th>description</th>\n",
              "      <th>label</th>\n",
              "    </tr>\n",
              "  </thead>\n",
              "  <tbody>\n",
              "    <tr>\n",
              "      <th>0</th>\n",
              "      <td>U. R. GOD Business / Visiting 10 Card Holder</td>\n",
              "      <td>U. R. GOD</td>\n",
              "      <td>key features of u r god business  visiting 10 ...</td>\n",
              "      <td>Bags, Wallets &amp; Belts</td>\n",
              "    </tr>\n",
              "    <tr>\n",
              "      <th>1</th>\n",
              "      <td>Dong Yang 880 Pouch Soccer Art Cloth Pencil Box</td>\n",
              "      <td>NaN</td>\n",
              "      <td>flipkart com buy dong yang 880 pouch soccer ar...</td>\n",
              "      <td>Toys &amp; School Supplies</td>\n",
              "    </tr>\n",
              "    <tr>\n",
              "      <th>2</th>\n",
              "      <td>Shreya Collection 3 Multicolour Hair Clips Ban...</td>\n",
              "      <td>Shreya Collection</td>\n",
              "      <td>key features of shreya collection 3 multicolou...</td>\n",
              "      <td>Beauty and Personal Care</td>\n",
              "    </tr>\n",
              "    <tr>\n",
              "      <th>3</th>\n",
              "      <td>Jewel Paradise Brass Plated Brass Necklace</td>\n",
              "      <td>Jewel Paradise</td>\n",
              "      <td>jewel paradise brass plated brass necklace  bu...</td>\n",
              "      <td>Jewellery</td>\n",
              "    </tr>\n",
              "    <tr>\n",
              "      <th>4</th>\n",
              "      <td>Disney Princess Cartoon Art Plastic Pencil Box</td>\n",
              "      <td>NaN</td>\n",
              "      <td>flipkart com buy disney princess cartoon art p...</td>\n",
              "      <td>Toys &amp; School Supplies</td>\n",
              "    </tr>\n",
              "  </tbody>\n",
              "</table>\n",
              "</div>"
            ],
            "text/plain": [
              "                                        product_name  ...                     label\n",
              "0       U. R. GOD Business / Visiting 10 Card Holder  ...     Bags, Wallets & Belts\n",
              "1    Dong Yang 880 Pouch Soccer Art Cloth Pencil Box  ...    Toys & School Supplies\n",
              "2  Shreya Collection 3 Multicolour Hair Clips Ban...  ...  Beauty and Personal Care\n",
              "3         Jewel Paradise Brass Plated Brass Necklace  ...                 Jewellery\n",
              "4     Disney Princess Cartoon Art Plastic Pencil Box  ...    Toys & School Supplies\n",
              "\n",
              "[5 rows x 4 columns]"
            ]
          },
          "metadata": {
            "tags": []
          },
          "execution_count": 27
        }
      ]
    },
    {
      "cell_type": "markdown",
      "metadata": {
        "id": "kloilCwUsiwa"
      },
      "source": [
        "Let's take a look at the different categories in the dataset."
      ]
    },
    {
      "cell_type": "code",
      "metadata": {
        "colab": {
          "base_uri": "https://localhost:8080/",
          "height": 457
        },
        "id": "XCTbtOXvsnko",
        "outputId": "4d4adc62-e288-4ed7-a0ec-a0dec46b5d6a"
      },
      "source": [
        "value_counts = df.label.value_counts() # distinct categories in the dataset\n",
        "\n",
        "all_categories = value_counts.to_frame('count')\n",
        "all_categories['label'] = all_categories.index\n",
        "all_categories = all_categories.reset_index(drop = True)\n",
        "\n",
        "g = all_categories.nlargest(columns=\"count\", n = 50) \n",
        "plt.figure(figsize=(4,6)) \n",
        "ax = sns.barplot(data=g, x= \"count\", y = \"label\") \n",
        "ax.set(ylabel = 'count') \n",
        "plt.title('Frequencey of data points for different categories\\n', fontsize=14)\n",
        "plt.show()\n",
        "\n",
        "print(\"\\nTotal number of categories in the dataset - \",len(value_counts)) # number of disctinct categories"
      ],
      "execution_count": 28,
      "outputs": [
        {
          "output_type": "display_data",
          "data": {
            "image/png": "[encoded data removed]",
            "text/plain": [
              "<Figure size 288x432 with 1 Axes>"
            ]
          },
          "metadata": {
            "tags": []
          }
        },
        {
          "output_type": "stream",
          "text": [
            "\n",
            "Total number of categories in the dataset -  18\n"
          ],
          "name": "stdout"
        }
      ]
    },
    {
      "cell_type": "markdown",
      "metadata": {
        "id": "DVi9WM9Ssx52"
      },
      "source": [
        "Encoding The Labels"
      ]
    },
    {
      "cell_type": "code",
      "metadata": {
        "colab": {
          "base_uri": "https://localhost:8080/"
        },
        "id": "H0aOPpZFlEKH",
        "outputId": "0af69d22-364c-46cd-dd33-7eaca0f38e6a"
      },
      "source": [
        "possible_labels = df.label.unique() # unique labels/categories in the dataset\n",
        "\n",
        "label_dict = {}\n",
        "for index, possible_label in enumerate(possible_labels): # creating a dictionary, label : encoded_value\n",
        "    label_dict[possible_label] = index\n",
        "\n",
        "print(label_dict)\n",
        "\n",
        "df['labels'] = df['label'].map(label_dict) # encoding each unique label according to label_dict"
      ],
      "execution_count": 29,
      "outputs": [
        {
          "output_type": "stream",
          "text": [
            "{'Bags, Wallets & Belts': 0, 'Toys & School Supplies': 1, 'Beauty and Personal Care': 2, 'Jewellery': 3, 'Baby Care': 4, 'Clothing': 5, 'Mobiles & Accessories': 6, 'Automotive': 7, 'Footwear': 8, 'Pens & Stationery': 9, 'Watches': 10, 'Home Furnishing': 11, 'Sports & Fitness': 12, 'Home Decor & Festive Needs': 13, 'Tools & Hardware': 14, 'Computers': 15, 'Kitchen & Dining': 16, 'Furniture': 17}\n"
          ],
          "name": "stdout"
        }
      ]
    },
    {
      "cell_type": "code",
      "metadata": {
        "colab": {
          "base_uri": "https://localhost:8080/",
          "height": 196
        },
        "id": "uUXj9ANx_xjh",
        "outputId": "88350316-c9a9-4415-882a-d270676f7962"
      },
      "source": [
        "df.head()"
      ],
      "execution_count": 30,
      "outputs": [
        {
          "output_type": "execute_result",
          "data": {
            "text/html": [
              "<div>\n",
              "<style scoped>\n",
              "    .dataframe tbody tr th:only-of-type {\n",
              "        vertical-align: middle;\n",
              "    }\n",
              "\n",
              "    .dataframe tbody tr th {\n",
              "        vertical-align: top;\n",
              "    }\n",
              "\n",
              "    .dataframe thead th {\n",
              "        text-align: right;\n",
              "    }\n",
              "</style>\n",
              "<table border=\"1\" class=\"dataframe\">\n",
              "  <thead>\n",
              "    <tr style=\"text-align: right;\">\n",
              "      <th></th>\n",
              "      <th>product_name</th>\n",
              "      <th>brand</th>\n",
              "      <th>description</th>\n",
              "      <th>label</th>\n",
              "      <th>labels</th>\n",
              "    </tr>\n",
              "  </thead>\n",
              "  <tbody>\n",
              "    <tr>\n",
              "      <th>0</th>\n",
              "      <td>U. R. GOD Business / Visiting 10 Card Holder</td>\n",
              "      <td>U. R. GOD</td>\n",
              "      <td>key features of u r god business  visiting 10 ...</td>\n",
              "      <td>Bags, Wallets &amp; Belts</td>\n",
              "      <td>0</td>\n",
              "    </tr>\n",
              "    <tr>\n",
              "      <th>1</th>\n",
              "      <td>Dong Yang 880 Pouch Soccer Art Cloth Pencil Box</td>\n",
              "      <td>NaN</td>\n",
              "      <td>flipkart com buy dong yang 880 pouch soccer ar...</td>\n",
              "      <td>Toys &amp; School Supplies</td>\n",
              "      <td>1</td>\n",
              "    </tr>\n",
              "    <tr>\n",
              "      <th>2</th>\n",
              "      <td>Shreya Collection 3 Multicolour Hair Clips Ban...</td>\n",
              "      <td>Shreya Collection</td>\n",
              "      <td>key features of shreya collection 3 multicolou...</td>\n",
              "      <td>Beauty and Personal Care</td>\n",
              "      <td>2</td>\n",
              "    </tr>\n",
              "    <tr>\n",
              "      <th>3</th>\n",
              "      <td>Jewel Paradise Brass Plated Brass Necklace</td>\n",
              "      <td>Jewel Paradise</td>\n",
              "      <td>jewel paradise brass plated brass necklace  bu...</td>\n",
              "      <td>Jewellery</td>\n",
              "      <td>3</td>\n",
              "    </tr>\n",
              "    <tr>\n",
              "      <th>4</th>\n",
              "      <td>Disney Princess Cartoon Art Plastic Pencil Box</td>\n",
              "      <td>NaN</td>\n",
              "      <td>flipkart com buy disney princess cartoon art p...</td>\n",
              "      <td>Toys &amp; School Supplies</td>\n",
              "      <td>1</td>\n",
              "    </tr>\n",
              "  </tbody>\n",
              "</table>\n",
              "</div>"
            ],
            "text/plain": [
              "                                        product_name  ... labels\n",
              "0       U. R. GOD Business / Visiting 10 Card Holder  ...      0\n",
              "1    Dong Yang 880 Pouch Soccer Art Cloth Pencil Box  ...      1\n",
              "2  Shreya Collection 3 Multicolour Hair Clips Ban...  ...      2\n",
              "3         Jewel Paradise Brass Plated Brass Necklace  ...      3\n",
              "4     Disney Princess Cartoon Art Plastic Pencil Box  ...      1\n",
              "\n",
              "[5 rows x 5 columns]"
            ]
          },
          "metadata": {
            "tags": []
          },
          "execution_count": 30
        }
      ]
    },
    {
      "cell_type": "markdown",
      "metadata": {
        "id": "cAIxbJDTtGCi"
      },
      "source": [
        "Frequency of data points for a given length -"
      ]
    },
    {
      "cell_type": "code",
      "metadata": {
        "id": "J6jlg28b8Ws5",
        "colab": {
          "base_uri": "https://localhost:8080/",
          "height": 363
        },
        "outputId": "2446d6ca-ec2e-4555-c90f-c7e2c5618e99"
      },
      "source": [
        "plt.style.use(\"ggplot\")\n",
        "\n",
        "plt.figure(figsize=(5, 4))\n",
        "df['length'] = df['description'].apply(lambda x: len(x.split()))\n",
        "sns.histplot(df['length'])\n",
        "plt.title('Frequencey of data points for a given length\\n', fontsize=12)\n",
        "plt.xlabel('length', fontsize=12)\n",
        "None\n",
        "\n",
        "print(\"Average length of a product description - \", df.length.mean(), \"\\n\\n\")"
      ],
      "execution_count": 12,
      "outputs": [
        {
          "output_type": "stream",
          "text": [
            "Average length of a product description -  68.71841136516825 \n",
            "\n",
            "\n"
          ],
          "name": "stdout"
        },
        {
          "output_type": "display_data",
          "data": {
            "image/png": "[encoded data removed]",
            "text/plain": [
              "<Figure size 360x288 with 1 Axes>"
            ]
          },
          "metadata": {
            "tags": []
          }
        }
      ]
    },
    {
      "cell_type": "code",
      "metadata": {
        "id": "_U70BdP_8Ws6",
        "colab": {
          "base_uri": "https://localhost:8080/"
        },
        "outputId": "fc29e297-6b1e-4bb6-a1ec-fbcfe29dc3c1"
      },
      "source": [
        "# Setting the random seed\n",
        "torch.manual_seed(17)\n",
        "\n",
        "\n",
        "# set the device to GPU, if available\n",
        "if torch.cuda.is_available():\n",
        "    device = torch.device('cuda:0')\n",
        "    torch.backends.cudnn.deterministic = True\n",
        "    torch.backends.cudnn.benchmark = False\n",
        "else:\n",
        "    device = torch.device('cpu')\n",
        "\n",
        "print(device)"
      ],
      "execution_count": 31,
      "outputs": [
        {
          "output_type": "stream",
          "text": [
            "cuda:0\n"
          ],
          "name": "stdout"
        }
      ]
    },
    {
      "cell_type": "markdown",
      "metadata": {
        "id": "QQV07FmYteIi"
      },
      "source": [
        "To tokenize the data, we will be using **[RoBERTaTokenizer](https://https://huggingface.co/transformers/model_doc/roberta.html#robertatokenizer)** from HuggingFace."
      ]
    },
    {
      "cell_type": "code",
      "metadata": {
        "id": "8CXM2uGL8Ws6"
      },
      "source": [
        "tokenizer = RobertaTokenizer.from_pretrained(\"roberta-base\", padding = True) #initializing the tokenizer"
      ],
      "execution_count": 32,
      "outputs": []
    },
    {
      "cell_type": "markdown",
      "metadata": {
        "id": "iAdHqWXCt4SZ"
      },
      "source": [
        "Here, we have used various modules from [torchtext](https://https://torchtext.readthedocs.io/en/latest/data.html#dataset-batch-and-example) to define a [pre-processing](https://huggingface.co/transformers/preprocessing.html) pipeline for the data.\n",
        "\n",
        "We have used RoBERTaTokenizer to tokenize the data, and split into train, test and validation set."
      ]
    },
    {
      "cell_type": "code",
      "metadata": {
        "id": "CtEOihgM8Ws7"
      },
      "source": [
        "df.to_csv('dataset.csv')\n",
        "\n",
        "# Setting the tokenizer hyperparameters.\n",
        "MAX_SEQ_LEN = 256\n",
        "BATCH_SIZE = 8\n",
        "PAD_INDEX = tokenizer.convert_tokens_to_ids(tokenizer.pad_token)\n",
        "UNK_INDEX = tokenizer.convert_tokens_to_ids(tokenizer.unk_token)\n",
        "\n",
        "\n",
        "# Defining Fields to be read.\n",
        "label_field = Field(sequential=False, use_vocab=False, batch_first=True)\n",
        "text_field = Field(use_vocab=False, \n",
        "                   tokenize=tokenizer.encode, \n",
        "                   include_lengths=False, \n",
        "                   batch_first=True,\n",
        "                   fix_length=MAX_SEQ_LEN, \n",
        "                   pad_token=PAD_INDEX, \n",
        "                   unk_token=UNK_INDEX)\n",
        "\n",
        "fields = {'description' : ('description', text_field), 'labels' : ('labels', label_field)}\n",
        "\n",
        "\n",
        "# Split the dataset into train, test and validation sets\n",
        "train_data, valid_data, test_data = TabularDataset(path=f\"dataset.csv\", \n",
        "                                                   format='CSV', \n",
        "                                                   fields=fields, \n",
        "                                                   skip_header=False).split(split_ratio=[0.70, 0.2, 0.1], \n",
        "                                                                            stratified=True, \n",
        "                                                                            strata_field='labels')\n",
        "\n",
        "# Create train and validation iterators using BucketIterator from torchtext.data\n",
        "train_iter, valid_iter = BucketIterator.splits((train_data, valid_data),\n",
        "                                               batch_size=BATCH_SIZE,\n",
        "                                               device=device,\n",
        "                                               shuffle=True,\n",
        "                                               sort_key=lambda x: len(x.description), \n",
        "                                               sort=True, \n",
        "                                               sort_within_batch=False)\n",
        "\n",
        "# Test iterator without any shuffling\n",
        "test_iter = Iterator(test_data, batch_size=BATCH_SIZE, device=device, train=False, shuffle=False, sort=False)"
      ],
      "execution_count": 34,
      "outputs": []
    },
    {
      "cell_type": "markdown",
      "metadata": {
        "id": "U6GJq_WfvWhp"
      },
      "source": [
        "Functions for saving and loading model parameters and metrics."
      ]
    },
    {
      "cell_type": "code",
      "metadata": {
        "id": "qfuVwsk88Ws7"
      },
      "source": [
        "def save_checkpoint(path, model, valid_loss):\n",
        "    torch.save({'model_state_dict': model.state_dict(),\n",
        "                  'valid_loss': valid_loss}, path)\n",
        "\n",
        "    \n",
        "def load_checkpoint(path, model):    \n",
        "    state_dict = torch.load(path, map_location=device)\n",
        "    model.load_state_dict(state_dict['model_state_dict'])\n",
        "    \n",
        "    return state_dict['valid_loss']\n",
        "\n",
        "\n",
        "def save_metrics(path, train_loss_list, valid_loss_list, global_steps_list):   \n",
        "    state_dict = {'train_loss_list': train_loss_list,\n",
        "                  'valid_loss_list': valid_loss_list,\n",
        "                  'global_steps_list': global_steps_list}\n",
        "    \n",
        "    torch.save(state_dict, path)\n",
        "\n",
        "def load_metrics(path):    \n",
        "    state_dict = torch.load(path, map_location=device)\n",
        "    return state_dict['train_loss_list'], state_dict['valid_loss_list'], state_dict['global_steps_list']"
      ],
      "execution_count": 16,
      "outputs": []
    },
    {
      "cell_type": "markdown",
      "metadata": {
        "id": "qp78fE3kviR-"
      },
      "source": [
        "We will use HuggingFace **[RobertaForSequenceClassification](https://huggingface.co/transformers/model_doc/roberta.html#robertaforsequenceclassification)** model for our purpose."
      ]
    },
    {
      "cell_type": "code",
      "metadata": {
        "colab": {
          "base_uri": "https://localhost:8080/"
        },
        "id": "3Jrgyp9IEC6-",
        "outputId": "bba76573-8ec9-47ef-9689-0dc0391470e0"
      },
      "source": [
        "model = RobertaForSequenceClassification.from_pretrained('roberta-base',\n",
        "                                                      num_labels=len(label_dict), # set number of labels according to our requirement\n",
        "                                                      output_attentions=False,\n",
        "                                                      output_hidden_states=False)\n",
        "model"
      ],
      "execution_count": 35,
      "outputs": [
        {
          "output_type": "stream",
          "text": [
            "Some weights of the model checkpoint at roberta-base were not used when initializing RobertaForSequenceClassification: ['lm_head.bias', 'lm_head.dense.weight', 'lm_head.dense.bias', 'lm_head.layer_norm.weight', 'lm_head.layer_norm.bias', 'lm_head.decoder.weight', 'roberta.pooler.dense.weight', 'roberta.pooler.dense.bias']\n",
            "- This IS expected if you are initializing RobertaForSequenceClassification from the checkpoint of a model trained on another task or with another architecture (e.g. initializing a BertForSequenceClassification model from a BertForPreTraining model).\n",
            "- This IS NOT expected if you are initializing RobertaForSequenceClassification from the checkpoint of a model that you expect to be exactly identical (initializing a BertForSequenceClassification model from a BertForSequenceClassification model).\n",
            "Some weights of RobertaForSequenceClassification were not initialized from the model checkpoint at roberta-base and are newly initialized: ['classifier.dense.weight', 'classifier.dense.bias', 'classifier.out_proj.weight', 'classifier.out_proj.bias']\n",
            "You should probably TRAIN this model on a down-stream task to be able to use it for predictions and inference.\n"
          ],
          "name": "stderr"
        },
        {
          "output_type": "execute_result",
          "data": {
            "text/plain": [
              "RobertaForSequenceClassification(\n",
              "  (roberta): RobertaModel(\n",
              "    (embeddings): RobertaEmbeddings(\n",
              "      (word_embeddings): Embedding(50265, 768, padding_idx=1)\n",
              "      (position_embeddings): Embedding(514, 768, padding_idx=1)\n",
              "      (token_type_embeddings): Embedding(1, 768)\n",
              "      (LayerNorm): LayerNorm((768,), eps=1e-05, elementwise_affine=True)\n",
              "      (dropout): Dropout(p=0.1, inplace=False)\n",
              "    )\n",
              "    (encoder): RobertaEncoder(\n",
              "      (layer): ModuleList(\n",
              "        (0): RobertaLayer(\n",
              "          (attention): RobertaAttention(\n",
              "            (self): RobertaSelfAttention(\n",
              "              (query): Linear(in_features=768, out_features=768, bias=True)\n",
              "              (key): Linear(in_features=768, out_features=768, bias=True)\n",
              "              (value): Linear(in_features=768, out_features=768, bias=True)\n",
              "              (dropout): Dropout(p=0.1, inplace=False)\n",
              "            )\n",
              "            (output): RobertaSelfOutput(\n",
              "              (dense): Linear(in_features=768, out_features=768, bias=True)\n",
              "              (LayerNorm): LayerNorm((768,), eps=1e-05, elementwise_affine=True)\n",
              "              (dropout): Dropout(p=0.1, inplace=False)\n",
              "            )\n",
              "          )\n",
              "          (intermediate): RobertaIntermediate(\n",
              "            (dense): Linear(in_features=768, out_features=3072, bias=True)\n",
              "          )\n",
              "          (output): RobertaOutput(\n",
              "            (dense): Linear(in_features=3072, out_features=768, bias=True)\n",
              "            (LayerNorm): LayerNorm((768,), eps=1e-05, elementwise_affine=True)\n",
              "            (dropout): Dropout(p=0.1, inplace=False)\n",
              "          )\n",
              "        )\n",
              "        (1): RobertaLayer(\n",
              "          (attention): RobertaAttention(\n",
              "            (self): RobertaSelfAttention(\n",
              "              (query): Linear(in_features=768, out_features=768, bias=True)\n",
              "              (key): Linear(in_features=768, out_features=768, bias=True)\n",
              "              (value): Linear(in_features=768, out_features=768, bias=True)\n",
              "              (dropout): Dropout(p=0.1, inplace=False)\n",
              "            )\n",
              "            (output): RobertaSelfOutput(\n",
              "              (dense): Linear(in_features=768, out_features=768, bias=True)\n",
              "              (LayerNorm): LayerNorm((768,), eps=1e-05, elementwise_affine=True)\n",
              "              (dropout): Dropout(p=0.1, inplace=False)\n",
              "            )\n",
              "          )\n",
              "          (intermediate): RobertaIntermediate(\n",
              "            (dense): Linear(in_features=768, out_features=3072, bias=True)\n",
              "          )\n",
              "          (output): RobertaOutput(\n",
              "            (dense): Linear(in_features=3072, out_features=768, bias=True)\n",
              "            (LayerNorm): LayerNorm((768,), eps=1e-05, elementwise_affine=True)\n",
              "            (dropout): Dropout(p=0.1, inplace=False)\n",
              "          )\n",
              "        )\n",
              "        (2): RobertaLayer(\n",
              "          (attention): RobertaAttention(\n",
              "            (self): RobertaSelfAttention(\n",
              "              (query): Linear(in_features=768, out_features=768, bias=True)\n",
              "              (key): Linear(in_features=768, out_features=768, bias=True)\n",
              "              (value): Linear(in_features=768, out_features=768, bias=True)\n",
              "              (dropout): Dropout(p=0.1, inplace=False)\n",
              "            )\n",
              "            (output): RobertaSelfOutput(\n",
              "              (dense): Linear(in_features=768, out_features=768, bias=True)\n",
              "              (LayerNorm): LayerNorm((768,), eps=1e-05, elementwise_affine=True)\n",
              "              (dropout): Dropout(p=0.1, inplace=False)\n",
              "            )\n",
              "          )\n",
              "          (intermediate): RobertaIntermediate(\n",
              "            (dense): Linear(in_features=768, out_features=3072, bias=True)\n",
              "          )\n",
              "          (output): RobertaOutput(\n",
              "            (dense): Linear(in_features=3072, out_features=768, bias=True)\n",
              "            (LayerNorm): LayerNorm((768,), eps=1e-05, elementwise_affine=True)\n",
              "            (dropout): Dropout(p=0.1, inplace=False)\n",
              "          )\n",
              "        )\n",
              "        (3): RobertaLayer(\n",
              "          (attention): RobertaAttention(\n",
              "            (self): RobertaSelfAttention(\n",
              "              (query): Linear(in_features=768, out_features=768, bias=True)\n",
              "              (key): Linear(in_features=768, out_features=768, bias=True)\n",
              "              (value): Linear(in_features=768, out_features=768, bias=True)\n",
              "              (dropout): Dropout(p=0.1, inplace=False)\n",
              "            )\n",
              "            (output): RobertaSelfOutput(\n",
              "              (dense): Linear(in_features=768, out_features=768, bias=True)\n",
              "              (LayerNorm): LayerNorm((768,), eps=1e-05, elementwise_affine=True)\n",
              "              (dropout): Dropout(p=0.1, inplace=False)\n",
              "            )\n",
              "          )\n",
              "          (intermediate): RobertaIntermediate(\n",
              "            (dense): Linear(in_features=768, out_features=3072, bias=True)\n",
              "          )\n",
              "          (output): RobertaOutput(\n",
              "            (dense): Linear(in_features=3072, out_features=768, bias=True)\n",
              "            (LayerNorm): LayerNorm((768,), eps=1e-05, elementwise_affine=True)\n",
              "            (dropout): Dropout(p=0.1, inplace=False)\n",
              "          )\n",
              "        )\n",
              "        (4): RobertaLayer(\n",
              "          (attention): RobertaAttention(\n",
              "            (self): RobertaSelfAttention(\n",
              "              (query): Linear(in_features=768, out_features=768, bias=True)\n",
              "              (key): Linear(in_features=768, out_features=768, bias=True)\n",
              "              (value): Linear(in_features=768, out_features=768, bias=True)\n",
              "              (dropout): Dropout(p=0.1, inplace=False)\n",
              "            )\n",
              "            (output): RobertaSelfOutput(\n",
              "              (dense): Linear(in_features=768, out_features=768, bias=True)\n",
              "              (LayerNorm): LayerNorm((768,), eps=1e-05, elementwise_affine=True)\n",
              "              (dropout): Dropout(p=0.1, inplace=False)\n",
              "            )\n",
              "          )\n",
              "          (intermediate): RobertaIntermediate(\n",
              "            (dense): Linear(in_features=768, out_features=3072, bias=True)\n",
              "          )\n",
              "          (output): RobertaOutput(\n",
              "            (dense): Linear(in_features=3072, out_features=768, bias=True)\n",
              "            (LayerNorm): LayerNorm((768,), eps=1e-05, elementwise_affine=True)\n",
              "            (dropout): Dropout(p=0.1, inplace=False)\n",
              "          )\n",
              "        )\n",
              "        (5): RobertaLayer(\n",
              "          (attention): RobertaAttention(\n",
              "            (self): RobertaSelfAttention(\n",
              "              (query): Linear(in_features=768, out_features=768, bias=True)\n",
              "              (key): Linear(in_features=768, out_features=768, bias=True)\n",
              "              (value): Linear(in_features=768, out_features=768, bias=True)\n",
              "              (dropout): Dropout(p=0.1, inplace=False)\n",
              "            )\n",
              "            (output): RobertaSelfOutput(\n",
              "              (dense): Linear(in_features=768, out_features=768, bias=True)\n",
              "              (LayerNorm): LayerNorm((768,), eps=1e-05, elementwise_affine=True)\n",
              "              (dropout): Dropout(p=0.1, inplace=False)\n",
              "            )\n",
              "          )\n",
              "          (intermediate): RobertaIntermediate(\n",
              "            (dense): Linear(in_features=768, out_features=3072, bias=True)\n",
              "          )\n",
              "          (output): RobertaOutput(\n",
              "            (dense): Linear(in_features=3072, out_features=768, bias=True)\n",
              "            (LayerNorm): LayerNorm((768,), eps=1e-05, elementwise_affine=True)\n",
              "            (dropout): Dropout(p=0.1, inplace=False)\n",
              "          )\n",
              "        )\n",
              "        (6): RobertaLayer(\n",
              "          (attention): RobertaAttention(\n",
              "            (self): RobertaSelfAttention(\n",
              "              (query): Linear(in_features=768, out_features=768, bias=True)\n",
              "              (key): Linear(in_features=768, out_features=768, bias=True)\n",
              "              (value): Linear(in_features=768, out_features=768, bias=True)\n",
              "              (dropout): Dropout(p=0.1, inplace=False)\n",
              "            )\n",
              "            (output): RobertaSelfOutput(\n",
              "              (dense): Linear(in_features=768, out_features=768, bias=True)\n",
              "              (LayerNorm): LayerNorm((768,), eps=1e-05, elementwise_affine=True)\n",
              "              (dropout): Dropout(p=0.1, inplace=False)\n",
              "            )\n",
              "          )\n",
              "          (intermediate): RobertaIntermediate(\n",
              "            (dense): Linear(in_features=768, out_features=3072, bias=True)\n",
              "          )\n",
              "          (output): RobertaOutput(\n",
              "            (dense): Linear(in_features=3072, out_features=768, bias=True)\n",
              "            (LayerNorm): LayerNorm((768,), eps=1e-05, elementwise_affine=True)\n",
              "            (dropout): Dropout(p=0.1, inplace=False)\n",
              "          )\n",
              "        )\n",
              "        (7): RobertaLayer(\n",
              "          (attention): RobertaAttention(\n",
              "            (self): RobertaSelfAttention(\n",
              "              (query): Linear(in_features=768, out_features=768, bias=True)\n",
              "              (key): Linear(in_features=768, out_features=768, bias=True)\n",
              "              (value): Linear(in_features=768, out_features=768, bias=True)\n",
              "              (dropout): Dropout(p=0.1, inplace=False)\n",
              "            )\n",
              "            (output): RobertaSelfOutput(\n",
              "              (dense): Linear(in_features=768, out_features=768, bias=True)\n",
              "              (LayerNorm): LayerNorm((768,), eps=1e-05, elementwise_affine=True)\n",
              "              (dropout): Dropout(p=0.1, inplace=False)\n",
              "            )\n",
              "          )\n",
              "          (intermediate): RobertaIntermediate(\n",
              "            (dense): Linear(in_features=768, out_features=3072, bias=True)\n",
              "          )\n",
              "          (output): RobertaOutput(\n",
              "            (dense): Linear(in_features=3072, out_features=768, bias=True)\n",
              "            (LayerNorm): LayerNorm((768,), eps=1e-05, elementwise_affine=True)\n",
              "            (dropout): Dropout(p=0.1, inplace=False)\n",
              "          )\n",
              "        )\n",
              "        (8): RobertaLayer(\n",
              "          (attention): RobertaAttention(\n",
              "            (self): RobertaSelfAttention(\n",
              "              (query): Linear(in_features=768, out_features=768, bias=True)\n",
              "              (key): Linear(in_features=768, out_features=768, bias=True)\n",
              "              (value): Linear(in_features=768, out_features=768, bias=True)\n",
              "              (dropout): Dropout(p=0.1, inplace=False)\n",
              "            )\n",
              "            (output): RobertaSelfOutput(\n",
              "              (dense): Linear(in_features=768, out_features=768, bias=True)\n",
              "              (LayerNorm): LayerNorm((768,), eps=1e-05, elementwise_affine=True)\n",
              "              (dropout): Dropout(p=0.1, inplace=False)\n",
              "            )\n",
              "          )\n",
              "          (intermediate): RobertaIntermediate(\n",
              "            (dense): Linear(in_features=768, out_features=3072, bias=True)\n",
              "          )\n",
              "          (output): RobertaOutput(\n",
              "            (dense): Linear(in_features=3072, out_features=768, bias=True)\n",
              "            (LayerNorm): LayerNorm((768,), eps=1e-05, elementwise_affine=True)\n",
              "            (dropout): Dropout(p=0.1, inplace=False)\n",
              "          )\n",
              "        )\n",
              "        (9): RobertaLayer(\n",
              "          (attention): RobertaAttention(\n",
              "            (self): RobertaSelfAttention(\n",
              "              (query): Linear(in_features=768, out_features=768, bias=True)\n",
              "              (key): Linear(in_features=768, out_features=768, bias=True)\n",
              "              (value): Linear(in_features=768, out_features=768, bias=True)\n",
              "              (dropout): Dropout(p=0.1, inplace=False)\n",
              "            )\n",
              "            (output): RobertaSelfOutput(\n",
              "              (dense): Linear(in_features=768, out_features=768, bias=True)\n",
              "              (LayerNorm): LayerNorm((768,), eps=1e-05, elementwise_affine=True)\n",
              "              (dropout): Dropout(p=0.1, inplace=False)\n",
              "            )\n",
              "          )\n",
              "          (intermediate): RobertaIntermediate(\n",
              "            (dense): Linear(in_features=768, out_features=3072, bias=True)\n",
              "          )\n",
              "          (output): RobertaOutput(\n",
              "            (dense): Linear(in_features=3072, out_features=768, bias=True)\n",
              "            (LayerNorm): LayerNorm((768,), eps=1e-05, elementwise_affine=True)\n",
              "            (dropout): Dropout(p=0.1, inplace=False)\n",
              "          )\n",
              "        )\n",
              "        (10): RobertaLayer(\n",
              "          (attention): RobertaAttention(\n",
              "            (self): RobertaSelfAttention(\n",
              "              (query): Linear(in_features=768, out_features=768, bias=True)\n",
              "              (key): Linear(in_features=768, out_features=768, bias=True)\n",
              "              (value): Linear(in_features=768, out_features=768, bias=True)\n",
              "              (dropout): Dropout(p=0.1, inplace=False)\n",
              "            )\n",
              "            (output): RobertaSelfOutput(\n",
              "              (dense): Linear(in_features=768, out_features=768, bias=True)\n",
              "              (LayerNorm): LayerNorm((768,), eps=1e-05, elementwise_affine=True)\n",
              "              (dropout): Dropout(p=0.1, inplace=False)\n",
              "            )\n",
              "          )\n",
              "          (intermediate): RobertaIntermediate(\n",
              "            (dense): Linear(in_features=768, out_features=3072, bias=True)\n",
              "          )\n",
              "          (output): RobertaOutput(\n",
              "            (dense): Linear(in_features=3072, out_features=768, bias=True)\n",
              "            (LayerNorm): LayerNorm((768,), eps=1e-05, elementwise_affine=True)\n",
              "            (dropout): Dropout(p=0.1, inplace=False)\n",
              "          )\n",
              "        )\n",
              "        (11): RobertaLayer(\n",
              "          (attention): RobertaAttention(\n",
              "            (self): RobertaSelfAttention(\n",
              "              (query): Linear(in_features=768, out_features=768, bias=True)\n",
              "              (key): Linear(in_features=768, out_features=768, bias=True)\n",
              "              (value): Linear(in_features=768, out_features=768, bias=True)\n",
              "              (dropout): Dropout(p=0.1, inplace=False)\n",
              "            )\n",
              "            (output): RobertaSelfOutput(\n",
              "              (dense): Linear(in_features=768, out_features=768, bias=True)\n",
              "              (LayerNorm): LayerNorm((768,), eps=1e-05, elementwise_affine=True)\n",
              "              (dropout): Dropout(p=0.1, inplace=False)\n",
              "            )\n",
              "          )\n",
              "          (intermediate): RobertaIntermediate(\n",
              "            (dense): Linear(in_features=768, out_features=3072, bias=True)\n",
              "          )\n",
              "          (output): RobertaOutput(\n",
              "            (dense): Linear(in_features=3072, out_features=768, bias=True)\n",
              "            (LayerNorm): LayerNorm((768,), eps=1e-05, elementwise_affine=True)\n",
              "            (dropout): Dropout(p=0.1, inplace=False)\n",
              "          )\n",
              "        )\n",
              "      )\n",
              "    )\n",
              "  )\n",
              "  (classifier): RobertaClassificationHead(\n",
              "    (dense): Linear(in_features=768, out_features=768, bias=True)\n",
              "    (dropout): Dropout(p=0.1, inplace=False)\n",
              "    (out_proj): Linear(in_features=768, out_features=18, bias=True)\n",
              "  )\n",
              ")"
            ]
          },
          "metadata": {
            "tags": []
          },
          "execution_count": 35
        }
      ]
    },
    {
      "cell_type": "code",
      "metadata": {
        "id": "KGpd6MrjDQ8S"
      },
      "source": [
        "output_path = '/content/drive/My Drive/Colab Notebooks/' # to save the model"
      ],
      "execution_count": 36,
      "outputs": []
    },
    {
      "cell_type": "markdown",
      "metadata": {
        "id": "Mc4MmAjxwhTR"
      },
      "source": [
        "Training function -"
      ]
    },
    {
      "cell_type": "code",
      "metadata": {
        "id": "bO9t7V6N8Ws9"
      },
      "source": [
        "def train(model, optimizer, train_iter, valid_iter, scheduler = None,\n",
        "          num_epochs = 5, valid_period = len(train_iter), output_path = output_path):\n",
        "    \n",
        "    # Initializing losses\n",
        "    train_loss = 0.0\n",
        "    valid_loss = 0.0\n",
        "\n",
        "    train_loss_list = []\n",
        "    valid_loss_list = []\n",
        "    best_valid_loss = float('Inf')\n",
        "    \n",
        "    global_step = 0\n",
        "    global_steps_list = []\n",
        "    \n",
        "    model.train()\n",
        "    \n",
        "    # training loop\n",
        "    for epoch in range(num_epochs):\n",
        "        for (source, target), _ in train_iter:\n",
        "\n",
        "            mask = (source != PAD_INDEX).type(torch.uint8)\n",
        "\n",
        "            inputs = {\n",
        "                      'input_ids':      source,\n",
        "                      'labels':         target,\n",
        "                      'attention_mask': mask\n",
        "                     }      \n",
        "            \n",
        "            outputs = model(**inputs)\n",
        "            loss = outputs[0]\n",
        "            loss.backward() # calculate gradient\n",
        "            \n",
        "            \n",
        "            # Optimizer and scheduler step\n",
        "            optimizer.step()    \n",
        "            scheduler.step()\n",
        "                \n",
        "            optimizer.zero_grad() # clear gradient\n",
        "            \n",
        "            # Update train loss and global step\n",
        "            train_loss += loss.item()\n",
        "            global_step += 1\n",
        "\n",
        "            # Validation loop. Save progress and evaluate model performance.\n",
        "            if global_step % valid_period == 0:\n",
        "                model.eval()\n",
        "                \n",
        "                with torch.no_grad():                    \n",
        "                    for (source, target), _ in valid_iter:\n",
        "\n",
        "                        mask = (source != PAD_INDEX).type(torch.uint8)\n",
        "\n",
        "                        inputs = {\n",
        "                        'input_ids':      source,\n",
        "                        'labels':         target,\n",
        "                        'attention_mask': mask\n",
        "                        }     \n",
        "\n",
        "                        outputs = model(**inputs)\n",
        "                        \n",
        "                        loss = outputs[0]\n",
        "                        valid_loss += loss.item()\n",
        "\n",
        "                # Store train and validation loss history\n",
        "\n",
        "                train_loss = train_loss / valid_period\n",
        "                valid_loss = valid_loss / len(valid_iter)\n",
        "                train_loss_list.append(train_loss)\n",
        "                valid_loss_list.append(valid_loss)\n",
        "                global_steps_list.append(global_step)\n",
        "\n",
        "                # Print the metrics\n",
        "                print('Epoch [{}/{}], global step [{}/{}], Train Loss: {:.4f}, Valid Loss: {:.4f}'\n",
        "                      .format(epoch+1, num_epochs, global_step, num_epochs*len(train_iter),\n",
        "                              train_loss, valid_loss))\n",
        "                \n",
        "                # Model checkpoint\n",
        "                if best_valid_loss > valid_loss:\n",
        "                    best_valid_loss = valid_loss\n",
        "                    save_checkpoint(output_path + '/model.pkl', model, best_valid_loss)\n",
        "                    save_metrics(output_path + '/metric.pkl', train_loss_list, valid_loss_list, global_steps_list)\n",
        "                        \n",
        "                train_loss = 0.0            \n",
        "                valid_loss = 0.0\n",
        "                model.train() # back to train mode\n",
        "    \n",
        "    save_metrics(output_path + '/metric.pkl', train_loss_list, valid_loss_list, global_steps_list) # saving the model metrics"
      ],
      "execution_count": 38,
      "outputs": []
    },
    {
      "cell_type": "markdown",
      "metadata": {
        "id": "VfebKk3sxwLD"
      },
      "source": [
        "Calling the train function to train the model."
      ]
    },
    {
      "cell_type": "code",
      "metadata": {
        "scrolled": true,
        "id": "COA4sOsh8Ws_",
        "colab": {
          "base_uri": "https://localhost:8080/"
        },
        "outputId": "e6c3d797-a98e-402c-d926-bcd8b740386a"
      },
      "source": [
        "steps_per_epoch = len(train_iter)\n",
        "model = model.to(device)\n",
        "\n",
        "\n",
        "NUM_EPOCHS = 5\n",
        "\n",
        "print(\"Start training...\")\n",
        "\n",
        "optimizer = AdamW(model.parameters(), lr=2e-6, eps=1e-6, weight_decay=0.1) # defining optimizer\n",
        "scheduler = get_linear_schedule_with_warmup(optimizer, \n",
        "                                            num_warmup_steps=steps_per_epoch*2, \n",
        "                                            num_training_steps=steps_per_epoch*NUM_EPOCHS) # scheduler\n",
        "\n",
        "train(model=model, \n",
        "      train_iter=train_iter, \n",
        "      valid_iter=valid_iter, \n",
        "      optimizer=optimizer, \n",
        "      scheduler=scheduler, \n",
        "      num_epochs=NUM_EPOCHS)\n",
        "\n",
        "print(\"Training done!!\")"
      ],
      "execution_count": 21,
      "outputs": [
        {
          "output_type": "stream",
          "text": [
            "Start training...\n",
            "Epoch [1/5], global step [1688/8440], Train Loss: 2.1753, Valid Loss: 1.6168\n",
            "Epoch [2/5], global step [3376/8440], Train Loss: 1.0268, Valid Loss: 0.5995\n",
            "Epoch [3/5], global step [5064/8440], Train Loss: 0.4503, Valid Loss: 0.2761\n",
            "Epoch [4/5], global step [6752/8440], Train Loss: 0.2698, Valid Loss: 0.2073\n",
            "Epoch [5/5], global step [8440/8440], Train Loss: 0.2124, Valid Loss: 0.1824\n",
            "Training done!\n",
            "Training done!!\n"
          ],
          "name": "stdout"
        }
      ]
    },
    {
      "cell_type": "markdown",
      "metadata": {
        "id": "pSYFbHdAx2cp"
      },
      "source": [
        "Plotting the train and validation loss history."
      ]
    },
    {
      "cell_type": "code",
      "metadata": {
        "id": "bFaGhe178WtB",
        "colab": {
          "base_uri": "https://localhost:8080/",
          "height": 338
        },
        "outputId": "b267c5d0-9ef9-4e66-93ce-f0c2ae4b857d"
      },
      "source": [
        "plt.figure(figsize=(5, 5))\n",
        "\n",
        "train_loss_list, valid_loss_list, global_steps_list = load_metrics(output_path + '/metric.pkl')\n",
        "plt.plot(global_steps_list, train_loss_list, label='Train')\n",
        "plt.plot(global_steps_list, valid_loss_list, label='Valid')\n",
        "\n",
        "plt.xlabel('Global Steps', fontsize=12)\n",
        "plt.ylabel('Loss', fontsize=12)\n",
        "plt.legend(fontsize=12)\n",
        "plt.show() "
      ],
      "execution_count": 22,
      "outputs": [
        {
          "output_type": "display_data",
          "data": {
            "image/png": "[encoded data removed]",
            "text/plain": [
              "<Figure size 360x360 with 1 Axes>"
            ]
          },
          "metadata": {
            "tags": []
          }
        }
      ]
    },
    {
      "cell_type": "markdown",
      "metadata": {
        "id": "fUwULbwnyCFV"
      },
      "source": [
        "Evalution function"
      ]
    },
    {
      "cell_type": "code",
      "metadata": {
        "id": "TRbN0MPB8WtB"
      },
      "source": [
        "def evaluate(model, test_loader):\n",
        "    y_pred = []\n",
        "    y_true = []\n",
        "\n",
        "    model.eval()\n",
        "    with torch.no_grad():\n",
        "        for (source, target), _ in test_loader:\n",
        "\n",
        "                mask = (source != PAD_INDEX).type(torch.uint8)\n",
        "\n",
        "                inputs = {\n",
        "                        'input_ids':     source,\n",
        "                        'labels':         target,\n",
        "                        'attention_mask': mask\n",
        "                        }     \n",
        "                \n",
        "                output = model(**inputs)\n",
        "\n",
        "                y_pred.extend(torch.argmax(output[1], axis=-1).tolist())\n",
        "                y_true.extend(target.tolist())\n",
        "    \n",
        "    print('Classification Report:')\n",
        "    print(classification_report(y_true, y_pred, digits=4))\n",
        "    \n",
        "    cm = confusion_matrix(y_true, y_pred)\n",
        "    plt.figure(figsize=(8, 8))\n",
        "    ax = plt.subplot()\n",
        "    sns.heatmap(cm, annot=True, ax = ax, cmap='Blues', fmt=\"d\")\n",
        "    ax.set_title('Confusion Matrix')\n",
        "\n",
        "    ax.set_xlabel('Predicted Labels')\n",
        "    ax.set_ylabel('True Labels')\n"
      ],
      "execution_count": 23,
      "outputs": []
    },
    {
      "cell_type": "markdown",
      "metadata": {
        "id": "DGCzyP5ryHsn"
      },
      "source": [
        "Testing the model on the test set, and printing out the metrics"
      ]
    },
    {
      "cell_type": "code",
      "metadata": {
        "id": "G7R1zJBf8WtB",
        "colab": {
          "base_uri": "https://localhost:8080/"
        },
        "outputId": "2e264c43-141d-4dc0-912a-73a92f718e27"
      },
      "source": [
        "# Initializing the model\n",
        "model = RobertaForSequenceClassification.from_pretrained('roberta-base',\n",
        "                                                      num_labels=len(label_dict),\n",
        "                                                      output_attentions=False,\n",
        "                                                      output_hidden_states=False, return_dict = False)\n",
        "model = model.to(device)"
      ],
      "execution_count": 24,
      "outputs": [
        {
          "output_type": "stream",
          "text": [
            "Some weights of the model checkpoint at roberta-base were not used when initializing RobertaForSequenceClassification: ['lm_head.bias', 'lm_head.dense.weight', 'lm_head.dense.bias', 'lm_head.layer_norm.weight', 'lm_head.layer_norm.bias', 'lm_head.decoder.weight', 'roberta.pooler.dense.weight', 'roberta.pooler.dense.bias']\n",
            "- This IS expected if you are initializing RobertaForSequenceClassification from the checkpoint of a model trained on another task or with another architecture (e.g. initializing a BertForSequenceClassification model from a BertForPreTraining model).\n",
            "- This IS NOT expected if you are initializing RobertaForSequenceClassification from the checkpoint of a model that you expect to be exactly identical (initializing a BertForSequenceClassification model from a BertForSequenceClassification model).\n",
            "Some weights of RobertaForSequenceClassification were not initialized from the model checkpoint at roberta-base and are newly initialized: ['classifier.dense.weight', 'classifier.dense.bias', 'classifier.out_proj.weight', 'classifier.out_proj.bias']\n",
            "You should probably TRAIN this model on a down-stream task to be able to use it for predictions and inference.\n"
          ],
          "name": "stderr"
        }
      ]
    },
    {
      "cell_type": "code",
      "metadata": {
        "colab": {
          "base_uri": "https://localhost:8080/",
          "height": 952
        },
        "id": "66JgISrx4bCU",
        "outputId": "e30f52d0-e7c7-4c77-b246-7f8fca1e31b5"
      },
      "source": [
        "# Loading the saved model\n",
        "load_checkpoint(output_path + '/model.pkl', model)\n",
        "\n",
        "evaluate(model, test_iter) # testing the model"
      ],
      "execution_count": 25,
      "outputs": [
        {
          "output_type": "stream",
          "text": [
            "Classification Report:\n",
            "              precision    recall  f1-score   support\n",
            "\n",
            "           0     0.9074    0.9245    0.9159        53\n",
            "           1     0.7000    0.8485    0.7671        66\n",
            "           2     0.9514    0.9648    0.9580       142\n",
            "           3     0.9901    0.9958    0.9929       706\n",
            "           4     0.9213    0.8454    0.8817        97\n",
            "           5     0.9943    0.9927    0.9935      1239\n",
            "           6     0.9389    0.9773    0.9577       220\n",
            "           7     0.9519    0.9802    0.9659       202\n",
            "           8     1.0000    0.9959    0.9980       245\n",
            "           9     0.8947    0.5397    0.6733        63\n",
            "          10     1.0000    0.9906    0.9953       106\n",
            "          11     0.8625    0.9857    0.9200       140\n",
            "          12     0.8889    0.7273    0.8000        33\n",
            "          13     0.9330    0.9731    0.9526       186\n",
            "          14     0.9487    0.9487    0.9487        78\n",
            "          15     0.9630    0.8966    0.9286       116\n",
            "          16     0.9524    0.9302    0.9412       129\n",
            "          17     0.9615    0.6944    0.8065        36\n",
            "\n",
            "    accuracy                         0.9642      3857\n",
            "   macro avg     0.9311    0.9006    0.9109      3857\n",
            "weighted avg     0.9652    0.9642    0.9633      3857\n",
            "\n"
          ],
          "name": "stdout"
        },
        {
          "output_type": "display_data",
          "data": {
            "image/png": "[encoded data removed]",
            "text/plain": [
              "<Figure size 576x576 with 2 Axes>"
            ]
          },
          "metadata": {
            "tags": []
          }
        }
      ]
    },
    {
      "cell_type": "code",
      "metadata": {
        "id": "AhlsCXWLbvUI"
      },
      "source": [
        ""
      ],
      "execution_count": 25,
      "outputs": []
    }
  ]
}