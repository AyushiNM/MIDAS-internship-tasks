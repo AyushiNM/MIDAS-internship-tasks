{
  "nbformat": 4,
  "nbformat_minor": 0,
  "metadata": {
    "colab": {
      "name": "LSTM (Task 3).ipynb",
      "provenance": []
    },
    "kernelspec": {
      "name": "python3",
      "display_name": "Python 3"
    },
    "language_info": {
      "name": "python"
    },
    "accelerator": "GPU"
  },
  "cells": [
    {
      "cell_type": "markdown",
      "metadata": {
        "id": "qnbeOmDE_yRP"
      },
      "source": [
        "**Using LSTMs to predict the product category.**"
      ]
    },
    {
      "cell_type": "code",
      "metadata": {
        "id": "kGkgTcxC4YK2"
      },
      "source": [
        "import numpy as np\n",
        "import pandas as pd\n",
        "import collections\n",
        "import matplotlib.pyplot as plt\n",
        "import seaborn as sns\n",
        "\n",
        "from collections import Counter"
      ],
      "execution_count": 4,
      "outputs": []
    },
    {
      "cell_type": "code",
      "metadata": {
        "id": "gS4Hc5MSmoUw"
      },
      "source": [
        "pip freeze > requirements.txt # generating the requirement.txt file"
      ],
      "execution_count": 5,
      "outputs": []
    },
    {
      "cell_type": "code",
      "metadata": {
        "colab": {
          "base_uri": "https://localhost:8080/"
        },
        "id": "tH0wQGLo4geL",
        "outputId": "014d5586-7001-4ba6-8018-265a00e94a41"
      },
      "source": [
        "from google.colab import drive\n",
        "drive.mount('/content/drive/')"
      ],
      "execution_count": 6,
      "outputs": [
        {
          "output_type": "stream",
          "text": [
            "Drive already mounted at /content/drive/; to attempt to forcibly remount, call drive.mount(\"/content/drive/\", force_remount=True).\n"
          ],
          "name": "stdout"
        }
      ]
    },
    {
      "cell_type": "markdown",
      "metadata": {
        "id": "EuoOK2nfADsE"
      },
      "source": [
        "Reading the cleaned version of the dataset that can be found [here](https://drive.google.com/file/d/1uM5Kr_CieByJkZiSxVeKPhSpWV-aUYTY/view?usp=sharing)"
      ]
    },
    {
      "cell_type": "code",
      "metadata": {
        "colab": {
          "base_uri": "https://localhost:8080/",
          "height": 212
        },
        "id": "BCfP1jes4pSr",
        "outputId": "6aa5d5a2-1450-4921-d557-716c4d575bbb"
      },
      "source": [
        "df = pd.read_csv('/content/drive/My Drive/Colab Notebooks/flipkart_ecommerce_processed_sample.csv', index_col = 0)\n",
        "\n",
        "print(\"The data shape is:\", df.shape)\n",
        "df.head()"
      ],
      "execution_count": 47,
      "outputs": [
        {
          "output_type": "stream",
          "text": [
            "The data shape is: (19287, 4)\n"
          ],
          "name": "stdout"
        },
        {
          "output_type": "execute_result",
          "data": {
            "text/html": [
              "<div>\n",
              "<style scoped>\n",
              "    .dataframe tbody tr th:only-of-type {\n",
              "        vertical-align: middle;\n",
              "    }\n",
              "\n",
              "    .dataframe tbody tr th {\n",
              "        vertical-align: top;\n",
              "    }\n",
              "\n",
              "    .dataframe thead th {\n",
              "        text-align: right;\n",
              "    }\n",
              "</style>\n",
              "<table border=\"1\" class=\"dataframe\">\n",
              "  <thead>\n",
              "    <tr style=\"text-align: right;\">\n",
              "      <th></th>\n",
              "      <th>product_name</th>\n",
              "      <th>brand</th>\n",
              "      <th>description</th>\n",
              "      <th>label</th>\n",
              "    </tr>\n",
              "  </thead>\n",
              "  <tbody>\n",
              "    <tr>\n",
              "      <th>0</th>\n",
              "      <td>U. R. GOD Business / Visiting 10 Card Holder</td>\n",
              "      <td>U. R. GOD</td>\n",
              "      <td>key features of u r god business  visiting 10 ...</td>\n",
              "      <td>Bags, Wallets &amp; Belts</td>\n",
              "    </tr>\n",
              "    <tr>\n",
              "      <th>1</th>\n",
              "      <td>Dong Yang 880 Pouch Soccer Art Cloth Pencil Box</td>\n",
              "      <td>NaN</td>\n",
              "      <td>flipkart com buy dong yang 880 pouch soccer ar...</td>\n",
              "      <td>Toys &amp; School Supplies</td>\n",
              "    </tr>\n",
              "    <tr>\n",
              "      <th>2</th>\n",
              "      <td>Shreya Collection 3 Multicolour Hair Clips Ban...</td>\n",
              "      <td>Shreya Collection</td>\n",
              "      <td>key features of shreya collection 3 multicolou...</td>\n",
              "      <td>Beauty and Personal Care</td>\n",
              "    </tr>\n",
              "    <tr>\n",
              "      <th>3</th>\n",
              "      <td>Jewel Paradise Brass Plated Brass Necklace</td>\n",
              "      <td>Jewel Paradise</td>\n",
              "      <td>jewel paradise brass plated brass necklace  bu...</td>\n",
              "      <td>Jewellery</td>\n",
              "    </tr>\n",
              "    <tr>\n",
              "      <th>4</th>\n",
              "      <td>Disney Princess Cartoon Art Plastic Pencil Box</td>\n",
              "      <td>NaN</td>\n",
              "      <td>flipkart com buy disney princess cartoon art p...</td>\n",
              "      <td>Toys &amp; School Supplies</td>\n",
              "    </tr>\n",
              "  </tbody>\n",
              "</table>\n",
              "</div>"
            ],
            "text/plain": [
              "                                        product_name  ...                     label\n",
              "0       U. R. GOD Business / Visiting 10 Card Holder  ...     Bags, Wallets & Belts\n",
              "1    Dong Yang 880 Pouch Soccer Art Cloth Pencil Box  ...    Toys & School Supplies\n",
              "2  Shreya Collection 3 Multicolour Hair Clips Ban...  ...  Beauty and Personal Care\n",
              "3         Jewel Paradise Brass Plated Brass Necklace  ...                 Jewellery\n",
              "4     Disney Princess Cartoon Art Plastic Pencil Box  ...    Toys & School Supplies\n",
              "\n",
              "[5 rows x 4 columns]"
            ]
          },
          "metadata": {
            "tags": []
          },
          "execution_count": 47
        }
      ]
    },
    {
      "cell_type": "markdown",
      "metadata": {
        "id": "Cmt4a2G2AbZi"
      },
      "source": [
        "Let's take a look at the different categories in the dataset"
      ]
    },
    {
      "cell_type": "code",
      "metadata": {
        "colab": {
          "base_uri": "https://localhost:8080/",
          "height": 454
        },
        "id": "bfILIE3O411T",
        "outputId": "7b17e23c-5914-45f1-d338-3987c265c17f"
      },
      "source": [
        "value_counts = df.label.value_counts() # distinct categories in the dataset\n",
        "\n",
        "all_categories = value_counts.to_frame('count')\n",
        "all_categories['label'] = all_categories.index\n",
        "all_categories = all_categories.reset_index(drop = True)\n",
        "\n",
        "g = all_categories.nlargest(columns=\"count\", n = 50) \n",
        "plt.figure(figsize=(4,6)) \n",
        "ax = sns.barplot(data=g, x= \"count\", y = \"label\") \n",
        "ax.set(ylabel = 'count') \n",
        "plt.title('Frequencey of data points for different categories\\n', fontsize=14)\n",
        "plt.show()\n",
        "\n",
        "print(\"\\nTotal number of categories in the dataset - \",len(value_counts)) # number of disctinct categories"
      ],
      "execution_count": 48,
      "outputs": [
        {
          "output_type": "display_data",
          "data": {
            "image/png": "[encoded data removed]",
            "text/plain": [
              "<Figure size 288x432 with 1 Axes>"
            ]
          },
          "metadata": {
            "tags": [],
            "needs_background": "light"
          }
        },
        {
          "output_type": "stream",
          "text": [
            "\n",
            "Total number of categories in the dataset -  18\n"
          ],
          "name": "stdout"
        }
      ]
    },
    {
      "cell_type": "markdown",
      "metadata": {
        "id": "YQL1FPrhAhOQ"
      },
      "source": [
        "Encoding the labels into integer values."
      ]
    },
    {
      "cell_type": "code",
      "metadata": {
        "colab": {
          "base_uri": "https://localhost:8080/"
        },
        "id": "6wqrHQlQ4-hr",
        "outputId": "f8b9bd6c-9afe-4dc4-f7dd-3202b77708aa"
      },
      "source": [
        "possible_labels = df.label.unique() # unique labels/categories in the dataset\n",
        "\n",
        "label_dict = {}\n",
        "for index, possible_label in enumerate(possible_labels): # creating a dictionary, label : encoded_value\n",
        "    label_dict[possible_label] = index\n",
        "\n",
        "print(label_dict)\n",
        "\n",
        "df['labels'] = df['label'].map(label_dict) # encoding each unique label according to label_dict"
      ],
      "execution_count": 49,
      "outputs": [
        {
          "output_type": "stream",
          "text": [
            "{'Bags, Wallets & Belts': 0, 'Toys & School Supplies': 1, 'Beauty and Personal Care': 2, 'Jewellery': 3, 'Baby Care': 4, 'Clothing': 5, 'Mobiles & Accessories': 6, 'Automotive': 7, 'Footwear': 8, 'Pens & Stationery': 9, 'Watches': 10, 'Home Furnishing': 11, 'Sports & Fitness': 12, 'Home Decor & Festive Needs': 13, 'Tools & Hardware': 14, 'Computers': 15, 'Kitchen & Dining': 16, 'Furniture': 17}\n"
          ],
          "name": "stdout"
        }
      ]
    },
    {
      "cell_type": "markdown",
      "metadata": {
        "id": "smonFITnAnRZ"
      },
      "source": [
        "Here, I have encoded each description using dictionaries that map the words in the vocabulary to integers."
      ]
    },
    {
      "cell_type": "code",
      "metadata": {
        "id": "weAMd24PZn1S"
      },
      "source": [
        "all_text = ' '.join([text for text in df['description']]) # create the text corpus\n",
        "words = all_text.split() # generate all the words\n",
        "\n",
        "counts = Counter(words)\n",
        "vocab = sorted(counts, key=counts.get, reverse=True) # create dictionary\n",
        "vocab_to_int = {word: ii for ii, word in enumerate(vocab, 1)}\n",
        "\n",
        "tokenized_description = []\n",
        " \n",
        "for description in df['description']: # tokenizing the description\n",
        "    tokenized_description.append([vocab_to_int[word] for word in description.split()])"
      ],
      "execution_count": 50,
      "outputs": []
    },
    {
      "cell_type": "code",
      "metadata": {
        "colab": {
          "base_uri": "https://localhost:8080/"
        },
        "id": "ba97-nUOaVSs",
        "outputId": "9e80f167-2866-416b-bd7e-6d13b1baf3f3"
      },
      "source": [
        "print('Number of unique words: ', len(vocab_to_int), \"\\n\")\n",
        "\n",
        "print('Tokenized description sample: \\n', tokenized_description[0])"
      ],
      "execution_count": 51,
      "outputs": [
        {
          "output_type": "stream",
          "text": [
            "Number of unique words:  24897 \n",
            "\n",
            "Tokenized description sample: \n",
            " [69, 34, 1, 810, 828, 2196, 1385, 3143, 290, 655, 337, 926, 60, 145, 1932, 813, 243, 290, 655, 337, 810, 828, 2196, 1385, 3143, 290, 655, 337, 48, 1, 30, 100, 33, 7, 2062, 810, 828, 2196, 318, 35, 131, 680, 4, 134, 424, 2711, 290, 655, 337, 35, 104, 162, 37, 8, 1029, 3143, 1369, 6666, 1369, 7272, 1369, 7273, 4, 819, 158, 35, 104, 1587, 37, 1224, 9, 35, 6, 17, 424, 96, 275, 37, 6, 17, 2822, 261, 486, 20, 155, 1158, 37, 18, 131, 1491, 4, 300, 779, 2, 1728, 3074, 1385, 3074, 103, 306, 103, 2, 677, 763, 43, 1, 810, 828, 2196, 1385, 3143, 290, 655, 337, 48, 1, 30, 100, 176, 176, 45, 145, 396, 176, 513, 424, 125, 49, 66, 1, 1369, 290, 1369, 42, 655, 337, 97, 225, 7791, 18314, 700, 1385, 3143, 655, 4756, 82, 326, 7792, 1904, 197, 6, 3, 52, 30, 655, 337]\n"
          ],
          "name": "stdout"
        }
      ]
    },
    {
      "cell_type": "markdown",
      "metadata": {
        "id": "9nGva3-JFuWU"
      },
      "source": [
        "Padding the tokenized description with zeros upto the sequence length, and truncating the ones that exceed sequence length."
      ]
    },
    {
      "cell_type": "code",
      "metadata": {
        "id": "PTqEEcEDbTFq"
      },
      "source": [
        "def pad_sequences(tokenized_description, seq_length):\n",
        "    ''' Return features of tokenized_description, where each description is padded with 0's \n",
        "        or truncated to the input seq_length.\n",
        "    '''\n",
        "\n",
        "    features = np.zeros((len(tokenized_description), seq_length), dtype=int)\n",
        "\n",
        "    for i, row in enumerate(tokenized_description):\n",
        "        features[i, -len(row):] = np.array(row)[:seq_length]\n",
        "    \n",
        "    return features"
      ],
      "execution_count": 52,
      "outputs": []
    },
    {
      "cell_type": "code",
      "metadata": {
        "id": "P47AaRYnbbzz"
      },
      "source": [
        "seq_length = 200 # sequence length\n",
        "\n",
        "features = pad_sequences(tokenized_description, seq_length=seq_length)"
      ],
      "execution_count": 53,
      "outputs": []
    },
    {
      "cell_type": "markdown",
      "metadata": {
        "id": "MotxPDfqGcFj"
      },
      "source": [
        "Splitting the dataset into train, test and validation sets."
      ]
    },
    {
      "cell_type": "code",
      "metadata": {
        "colab": {
          "base_uri": "https://localhost:8080/"
        },
        "id": "qCvC8iiZbsl9",
        "outputId": "43eeadde-8acf-4138-a647-051998eeb8e8"
      },
      "source": [
        "split_frac = 0.8 # size of training set.\n",
        "\n",
        "# Split the data into training, validation, and test data (features and labels, x and y)\n",
        "split_idx = int(len(features)*split_frac)\n",
        "train_x, remaining_x = features[:split_idx], features[split_idx:]\n",
        "train_y, remaining_y = np.array(df['labels'][:split_idx]), np.array(df['labels'][split_idx:])\n",
        "\n",
        "test_idx = int(len(remaining_x)*0.5)\n",
        "val_x, test_x = remaining_x[:test_idx], remaining_x[test_idx:]\n",
        "val_y, test_y = remaining_y[:test_idx], remaining_y[test_idx:]\n",
        "\n",
        "print(\"Length of training set : \", len(train_x))\n",
        "print(\"Length of test set : \", len(test_x))\n",
        "print(\"Length of validation set : \", len(val_x))"
      ],
      "execution_count": 54,
      "outputs": [
        {
          "output_type": "stream",
          "text": [
            "Length of training set :  15429\n",
            "Length of test set :  1929\n",
            "Length of validation set :  1929\n"
          ],
          "name": "stdout"
        }
      ]
    },
    {
      "cell_type": "markdown",
      "metadata": {
        "id": "03q1Q7WDHX3T"
      },
      "source": [
        "Create dataloaders for train, test and validation data"
      ]
    },
    {
      "cell_type": "code",
      "metadata": {
        "id": "fjDM76HdcXnA"
      },
      "source": [
        "import torch\n",
        "from torch.utils.data import TensorDataset, DataLoader\n",
        "\n",
        "# Tensor datasets\n",
        "train_data = TensorDataset(torch.from_numpy(train_x), torch.from_numpy(train_y))\n",
        "valid_data = TensorDataset(torch.from_numpy(val_x), torch.from_numpy(val_y))\n",
        "test_data = TensorDataset(torch.from_numpy(test_x), torch.from_numpy(test_y))\n",
        "\n",
        "# Dataloaders\n",
        "\n",
        "batch_size = 50\n",
        "train_loader = DataLoader(train_data, shuffle=True, batch_size=batch_size, drop_last=True)\n",
        "valid_loader = DataLoader(valid_data, shuffle=True, batch_size=batch_size, drop_last=True)\n",
        "test_loader = DataLoader(test_data, shuffle=True, batch_size=batch_size, drop_last=True)"
      ],
      "execution_count": 55,
      "outputs": []
    },
    {
      "cell_type": "code",
      "metadata": {
        "colab": {
          "base_uri": "https://localhost:8080/",
          "height": 128
        },
        "id": "3MygVBF6dJ_Y",
        "outputId": "4f21f66b-faf6-49f4-d111-23b8ad80224c"
      },
      "source": [
        "# Check if GPU is available\n",
        "\n",
        "torch.manual_seed(17)\n",
        "\n",
        "train_on_gpu=torch.cuda.is_available()\n",
        "\n",
        "if(train_on_gpu):\n",
        "    print('Training on GPU.')\"\"\n",
        "else:\n",
        "    print('No GPU available, training on CPU.')"
      ],
      "execution_count": 56,
      "outputs": [
        {
          "output_type": "error",
          "ename": "SyntaxError",
          "evalue": "ignored",
          "traceback": [
            "\u001b[0;36m  File \u001b[0;32m\"<ipython-input-56-02a051208c03>\"\u001b[0;36m, line \u001b[0;32m8\u001b[0m\n\u001b[0;31m    print('Training on GPU.')\"\"\u001b[0m\n\u001b[0m                              ^\u001b[0m\n\u001b[0;31mSyntaxError\u001b[0m\u001b[0;31m:\u001b[0m invalid syntax\n"
          ]
        }
      ]
    },
    {
      "cell_type": "markdown",
      "metadata": {
        "id": "HopERtNsHiRM"
      },
      "source": [
        "Creating the LSTM model."
      ]
    },
    {
      "cell_type": "code",
      "metadata": {
        "id": "FljRobmvdkrJ"
      },
      "source": [
        "import torch.nn as nn\n",
        "\n",
        "class LSTM(nn.Module):\n",
        "    \"\"\"\n",
        "    The LSTM model that will be used to predict product category.\n",
        "    \"\"\"\n",
        "    def __init__(self, vocab_size, output_size, embedding_dim, hidden_dim, n_layers, drop_prob=0.5):\n",
        "        super(LSTM, self).__init__()\n",
        "\n",
        "        self.output_size = output_size # number of categories\n",
        "        self.n_layers = n_layers\n",
        "        self.hidden_dim = hidden_dim\n",
        "        \n",
        "        # embedding and LSTM layers\n",
        "        self.embedding = nn.Embedding(vocab_size, embedding_dim)\n",
        "        self.lstm = nn.LSTM(embedding_dim, hidden_dim, n_layers,\n",
        "                            dropout=drop_prob, batch_first=True)\n",
        "        \n",
        "        # dropout layer\n",
        "        self.dropout = nn.Dropout(0.3)\n",
        "        \n",
        "        # linear and sigmoid layers\n",
        "        self.fc = nn.Linear(hidden_dim, output_size)\n",
        "        self.softmax = nn.LogSoftmax(dim=1)\n",
        "    \n",
        "    def forward(self, x, hidden):\n",
        "\n",
        "        batch_size = x.size(0)\n",
        "\n",
        "        x = x.long()\n",
        "        embeds = self.embedding(x)\n",
        "        lstm_out, hidden = self.lstm(embeds, hidden)\n",
        "\n",
        "        lstm_out = lstm_out.contiguous().view(-1, self.hidden_dim) # reshaping the lstm output\n",
        "        \n",
        "        # dropout and fully-connected layer\n",
        "        out = self.dropout(lstm_out)\n",
        "        out = self.fc(out)\n",
        "        out = self.softmax(out)\n",
        "\n",
        "        out = out.view(batch_size, -1, output_size)\n",
        "        out = out[:, -1]\n",
        "        \n",
        "        return out, hidden\n",
        "    \n",
        "    def init_hidden(self, batch_size):\n",
        "        ''' Initializes hidden state '''\n",
        "        weight = next(self.parameters()).data\n",
        "        \n",
        "        if (train_on_gpu):\n",
        "            hidden = (weight.new(self.n_layers, batch_size, self.hidden_dim).zero_().cuda(),\n",
        "                  weight.new(self.n_layers, batch_size, self.hidden_dim).zero_().cuda())\n",
        "        else:\n",
        "            hidden = (weight.new(self.n_layers, batch_size, self.hidden_dim).zero_(),\n",
        "                      weight.new(self.n_layers, batch_size, self.hidden_dim).zero_())\n",
        "        \n",
        "        return hidden"
      ],
      "execution_count": 57,
      "outputs": []
    },
    {
      "cell_type": "code",
      "metadata": {
        "colab": {
          "base_uri": "https://localhost:8080/"
        },
        "id": "0fw3LKGXdyo5",
        "outputId": "3f31fff2-5d1c-4fb3-82f0-a1bd6bb3db93"
      },
      "source": [
        "# Intialize the model with hyperparameters\n",
        "\n",
        "vocab_size = len(vocab_to_int)+1\n",
        "output_size = 18\n",
        "embedding_dim = 50\n",
        "hidden_dim = 128\n",
        "n_layers = 1\n",
        "\n",
        "net = LSTM(vocab_size, output_size, embedding_dim, hidden_dim, n_layers=1)\n",
        "print(net)"
      ],
      "execution_count": 58,
      "outputs": [
        {
          "output_type": "stream",
          "text": [
            "LSTM(\n",
            "  (embedding): Embedding(24898, 50)\n",
            "  (lstm): LSTM(50, 128, batch_first=True, dropout=0.5)\n",
            "  (dropout): Dropout(p=0.3, inplace=False)\n",
            "  (fc): Linear(in_features=128, out_features=18, bias=True)\n",
            "  (softmax): LogSoftmax(dim=1)\n",
            ")\n"
          ],
          "name": "stdout"
        },
        {
          "output_type": "stream",
          "text": [
            "/usr/local/lib/python3.7/dist-packages/torch/nn/modules/rnn.py:63: UserWarning: dropout option adds dropout after all but last recurrent layer, so non-zero dropout expects num_layers greater than 1, but got dropout=0.5 and num_layers=1\n",
            "  \"num_layers={}\".format(dropout, num_layers))\n"
          ],
          "name": "stderr"
        }
      ]
    },
    {
      "cell_type": "markdown",
      "metadata": {
        "id": "ti8VXeKgIxXX"
      },
      "source": [
        "Defining the loss and optimizer functions."
      ]
    },
    {
      "cell_type": "code",
      "metadata": {
        "id": "pPGGnqnVeU4k"
      },
      "source": [
        "lr=0.001 # Learning rate\n",
        "criterion = nn.NLLLoss() # loss function\n",
        "optimizer = torch.optim.Adam(net.parameters(), lr=lr) # optimizer"
      ],
      "execution_count": 59,
      "outputs": []
    },
    {
      "cell_type": "markdown",
      "metadata": {
        "id": "-x3iKh4vI3h5"
      },
      "source": [
        "Training the model"
      ]
    },
    {
      "cell_type": "code",
      "metadata": {
        "colab": {
          "base_uri": "https://localhost:8080/"
        },
        "id": "YQuTMPD0iS60",
        "outputId": "47694e61-1472-47d8-aa5d-9b384f8fc98d"
      },
      "source": [
        "epochs = 10\n",
        "counter = 0\n",
        "print_every = 300\n",
        "\n",
        "clip=5 # gradient clipping\n",
        "\n",
        "# move the model to GPU, if available\n",
        "if(train_on_gpu):\n",
        "    net.cuda()\n",
        "\n",
        "net.train()\n",
        "for e in range(epochs):\n",
        "\n",
        "    h = net.init_hidden(batch_size) # initializing hidden state\n",
        "\n",
        "    for inputs, labels in train_loader:\n",
        "        counter += 1\n",
        "\n",
        "        if(train_on_gpu):\n",
        "            inputs, labels = inputs.cuda(), labels.cuda()\n",
        "\n",
        "        h = tuple([each.data for each in h])\n",
        "        net.zero_grad()\n",
        "\n",
        "        output, h = net(inputs, h) # model output\n",
        "\n",
        "        loss = criterion(output, labels) # loss\n",
        "        loss.backward() # calculate gradient\n",
        "\n",
        "        nn.utils.clip_grad_norm_(net.parameters(), clip) # `clip_grad_norm` tp prevent the exploding gradient problem.\n",
        "        optimizer.step()\n",
        "\n",
        "\n",
        "        if counter % print_every == 0:\n",
        "\n",
        "            # Validation loss\n",
        "            val_h = net.init_hidden(batch_size)\n",
        "            val_losses = []\n",
        "            net.eval()\n",
        "            for inputs, labels in valid_loader:\n",
        "                val_h = tuple([each.data for each in val_h])\n",
        "\n",
        "                if(train_on_gpu):\n",
        "                    inputs, labels = inputs.cuda(), labels.cuda()\n",
        "\n",
        "                output, val_h = net(inputs, val_h)\n",
        "                val_loss = criterion(output.squeeze(), labels.long())\n",
        "\n",
        "                val_losses.append(val_loss.item())\n",
        "\n",
        "            net.train()\n",
        "            print(\"Epoch: {}/{}...\".format(e+1, epochs),\n",
        "                  \"Step: {}...\".format(counter),\n",
        "                  \"Loss: {:.6f}...\".format(loss.item()),\n",
        "                  \"Val Loss: {:.6f}\".format(np.mean(val_losses)))"
      ],
      "execution_count": 60,
      "outputs": [
        {
          "output_type": "stream",
          "text": [
            "Epoch: 1/10... Step: 300... Loss: 1.594425... Val Loss: 1.200722\n",
            "Epoch: 2/10... Step: 600... Loss: 0.953048... Val Loss: 0.866732\n",
            "Epoch: 3/10... Step: 900... Loss: 0.750998... Val Loss: 0.639743\n",
            "Epoch: 4/10... Step: 1200... Loss: 0.455850... Val Loss: 0.482489\n",
            "Epoch: 5/10... Step: 1500... Loss: 0.301306... Val Loss: 0.406502\n",
            "Epoch: 6/10... Step: 1800... Loss: 0.202566... Val Loss: 0.369561\n",
            "Epoch: 7/10... Step: 2100... Loss: 0.187628... Val Loss: 0.346324\n",
            "Epoch: 8/10... Step: 2400... Loss: 0.091875... Val Loss: 0.294207\n",
            "Epoch: 9/10... Step: 2700... Loss: 0.258346... Val Loss: 0.267324\n",
            "Epoch: 10/10... Step: 3000... Loss: 0.023219... Val Loss: 0.291314\n"
          ],
          "name": "stdout"
        }
      ]
    },
    {
      "cell_type": "markdown",
      "metadata": {
        "id": "xAXZpLcSK6jh"
      },
      "source": [
        "Testing the model on the test set and displaying the results through confusion matrix.\n",
        "\n"
      ]
    },
    {
      "cell_type": "code",
      "metadata": {
        "colab": {
          "base_uri": "https://localhost:8080/",
          "height": 597
        },
        "id": "-GB2ywCnin1b",
        "outputId": "9d7e287a-b6a3-4bdd-927e-bdd3fd8fbb14"
      },
      "source": [
        "from sklearn.metrics import confusion_matrix\n",
        "\n",
        "test_losses = []\n",
        "y_pred = []\n",
        "y_true = []\n",
        "\n",
        "num_correct = 0\n",
        "\n",
        "h = net.init_hidden(batch_size) # initialize hidden state\n",
        "\n",
        "net.eval()\n",
        "\n",
        "for inputs, labels in test_loader:\n",
        "\n",
        "    h = tuple([each.data for each in h])\n",
        "\n",
        "    if(train_on_gpu):\n",
        "        inputs, labels = inputs.cuda(), labels.cuda()\n",
        "    \n",
        "    output, h = net(inputs, h) # model output\n",
        "    \n",
        "    test_loss = criterion(output.squeeze(), labels.long()) # test loss\n",
        "    test_losses.append(test_loss.item())\n",
        "    \n",
        "    pred = torch.argmax(output.squeeze(), dim = 1)  # Predict the label\n",
        "\n",
        "    y_pred.extend(pred.tolist())\n",
        "    y_true.extend(labels.tolist())\n",
        "    \n",
        "    # compare predictions to true label\n",
        "    correct_tensor = pred.eq(labels.float().view_as(pred))\n",
        "    correct = np.squeeze(correct_tensor.numpy()) if not train_on_gpu else np.squeeze(correct_tensor.cpu().numpy())\n",
        "    num_correct += np.sum(correct)\n",
        "\n",
        "\n",
        "print(\"Test loss: {:.3f}\".format(np.mean(test_losses))) # average test loss\n",
        "\n",
        "test_acc = num_correct/len(test_loader.dataset) # test data accuracy\n",
        "print(\"Test accuracy: {:.3f}\".format(test_acc))\n",
        "\n",
        "print(\"\\n\\nConfusion matrix\")\n",
        "cm = confusion_matrix(y_true, y_pred)\n",
        "plt.figure(figsize=(8, 8))\n",
        "ax = plt.subplot()\n",
        "sns.heatmap(cm, annot=True, ax = ax, cmap='Blues', fmt=\"d\")\n",
        "ax.set_title('Confusion Matrix')\n",
        "\n",
        "ax.set_xlabel('Predicted Labels')\n",
        "ax.set_ylabel('True Labels')\n",
        "None"
      ],
      "execution_count": 67,
      "outputs": [
        {
          "output_type": "stream",
          "text": [
            "Test loss: 0.243\n",
            "Test accuracy: 0.923\n",
            "\n",
            "\n",
            "Confusion matrix\n"
          ],
          "name": "stdout"
        },
        {
          "output_type": "display_data",
          "data": {
            "image/png": "[encoded data removed]",
            "text/plain": [
              "<Figure size 576x576 with 2 Axes>"
            ]
          },
          "metadata": {
            "tags": [],
            "needs_background": "light"
          }
        }
      ]
    },
    {
      "cell_type": "code",
      "metadata": {
        "id": "LLflO_0FPWrn"
      },
      "source": [
        ""
      ],
      "execution_count": null,
      "outputs": []
    }
  ]
}